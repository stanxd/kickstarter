{
 "cells": [
  {
   "cell_type": "markdown",
   "metadata": {},
   "source": [
    "## AirBnB investment Advice\n",
    "##### by\n",
    "#### Sultan Alsaedi"
   ]
  },
  {
   "cell_type": "markdown",
   "metadata": {},
   "source": [
    "### STEP 1: importing the data"
   ]
  },
  {
   "cell_type": "code",
   "execution_count": 1,
   "metadata": {},
   "outputs": [],
   "source": [
    "#This line is to import the external file and expand it here\n",
    "#This line is to import the numpy functions and use it in this project\n",
    "#This line is to import the matplotlib and use it for data visualization\n",
    "import pandas as pd\n",
    "import numpy as np\n",
    "import seaborn as sns\n",
    "import matplotlib.pyplot as plt\n",
    "\n",
    "#loading the data from csv file in the laptop\n",
    "AirBnB = 'AirBnB.csv'\n",
    "airbnb = pd.read_csv(AirBnB)"
   ]
  },
  {
   "cell_type": "markdown",
   "metadata": {},
   "source": [
    "### Checking the data  that loaded by showing samples from AirBnB\n",
    "### Shows information of loaded dataset"
   ]
  },
  {
   "cell_type": "code",
   "execution_count": 2,
   "metadata": {},
   "outputs": [
    {
     "data": {
      "text/html": [
       "<div>\n",
       "<style scoped>\n",
       "    .dataframe tbody tr th:only-of-type {\n",
       "        vertical-align: middle;\n",
       "    }\n",
       "\n",
       "    .dataframe tbody tr th {\n",
       "        vertical-align: top;\n",
       "    }\n",
       "\n",
       "    .dataframe thead th {\n",
       "        text-align: right;\n",
       "    }\n",
       "</style>\n",
       "<table border=\"1\" class=\"dataframe\">\n",
       "  <thead>\n",
       "    <tr style=\"text-align: right;\">\n",
       "      <th></th>\n",
       "      <th>id</th>\n",
       "      <th>name</th>\n",
       "      <th>summary</th>\n",
       "      <th>space</th>\n",
       "      <th>host_id</th>\n",
       "      <th>host_url</th>\n",
       "      <th>host_name</th>\n",
       "      <th>host_since</th>\n",
       "      <th>host_location</th>\n",
       "      <th>host_about</th>\n",
       "      <th>...</th>\n",
       "      <th>number_of_reviews</th>\n",
       "      <th>first_review</th>\n",
       "      <th>last_review</th>\n",
       "      <th>review_scores_rating</th>\n",
       "      <th>review_scores_accuracy</th>\n",
       "      <th>review_scores_cleanliness</th>\n",
       "      <th>review_scores_checkin</th>\n",
       "      <th>review_scores_communication</th>\n",
       "      <th>review_scores_location</th>\n",
       "      <th>review_scores_value</th>\n",
       "    </tr>\n",
       "  </thead>\n",
       "  <tbody>\n",
       "    <tr>\n",
       "      <th>0</th>\n",
       "      <td>7087327</td>\n",
       "      <td>Historic DC Condo-Walk to Capitol!</td>\n",
       "      <td>Professional pictures coming soon! Welcome to ...</td>\n",
       "      <td>NaN</td>\n",
       "      <td>15830506</td>\n",
       "      <td>https://www.airbnb.com/users/show/15830506</td>\n",
       "      <td>Lize &amp; Greg</td>\n",
       "      <td>5/21/14</td>\n",
       "      <td>Washington, District of Columbia, United States</td>\n",
       "      <td>We are two fun, friendly entrepreneurs living ...</td>\n",
       "      <td>...</td>\n",
       "      <td>0</td>\n",
       "      <td>NaN</td>\n",
       "      <td>NaN</td>\n",
       "      <td>NaN</td>\n",
       "      <td>NaN</td>\n",
       "      <td>NaN</td>\n",
       "      <td>NaN</td>\n",
       "      <td>NaN</td>\n",
       "      <td>NaN</td>\n",
       "      <td>NaN</td>\n",
       "    </tr>\n",
       "    <tr>\n",
       "      <th>1</th>\n",
       "      <td>975833</td>\n",
       "      <td>Spacious Capitol Hill Townhouse</td>\n",
       "      <td>NaN</td>\n",
       "      <td>Beautifully renovated Capitol Hill townhouse. ...</td>\n",
       "      <td>5338703</td>\n",
       "      <td>https://www.airbnb.com/users/show/5338703</td>\n",
       "      <td>Sebastian</td>\n",
       "      <td>3/5/13</td>\n",
       "      <td>New York, New York, United States</td>\n",
       "      <td>Hi I'm Sebastian. \\r\\nAfter ten years in DC, m...</td>\n",
       "      <td>...</td>\n",
       "      <td>65</td>\n",
       "      <td>3/22/13</td>\n",
       "      <td>9/28/15</td>\n",
       "      <td>94.0</td>\n",
       "      <td>10.0</td>\n",
       "      <td>9.0</td>\n",
       "      <td>10.0</td>\n",
       "      <td>10.0</td>\n",
       "      <td>9.0</td>\n",
       "      <td>9.0</td>\n",
       "    </tr>\n",
       "    <tr>\n",
       "      <th>2</th>\n",
       "      <td>8249488</td>\n",
       "      <td>Spacious/private room for single</td>\n",
       "      <td>This is an ideal room for a single traveler th...</td>\n",
       "      <td>NaN</td>\n",
       "      <td>1487418</td>\n",
       "      <td>https://www.airbnb.com/users/show/1487418</td>\n",
       "      <td>Craig</td>\n",
       "      <td>12/9/11</td>\n",
       "      <td>Washington, District of Columbia, United States</td>\n",
       "      <td>just ask</td>\n",
       "      <td>...</td>\n",
       "      <td>1</td>\n",
       "      <td>9/10/15</td>\n",
       "      <td>9/10/15</td>\n",
       "      <td>NaN</td>\n",
       "      <td>NaN</td>\n",
       "      <td>NaN</td>\n",
       "      <td>NaN</td>\n",
       "      <td>NaN</td>\n",
       "      <td>NaN</td>\n",
       "      <td>NaN</td>\n",
       "    </tr>\n",
       "    <tr>\n",
       "      <th>3</th>\n",
       "      <td>8409022</td>\n",
       "      <td>A wonderful bedroom with library</td>\n",
       "      <td>Prime location right on the Potomac River in W...</td>\n",
       "      <td>NaN</td>\n",
       "      <td>16970249</td>\n",
       "      <td>https://www.airbnb.com/users/show/16970249</td>\n",
       "      <td>Christopher</td>\n",
       "      <td>6/18/14</td>\n",
       "      <td>Washington, District of Columbia, United States</td>\n",
       "      <td>NaN</td>\n",
       "      <td>...</td>\n",
       "      <td>0</td>\n",
       "      <td>NaN</td>\n",
       "      <td>NaN</td>\n",
       "      <td>NaN</td>\n",
       "      <td>NaN</td>\n",
       "      <td>NaN</td>\n",
       "      <td>NaN</td>\n",
       "      <td>NaN</td>\n",
       "      <td>NaN</td>\n",
       "      <td>NaN</td>\n",
       "    </tr>\n",
       "    <tr>\n",
       "      <th>4</th>\n",
       "      <td>8411173</td>\n",
       "      <td>Downtown Silver Spring</td>\n",
       "      <td>Hi travellers! I live in this peaceful spot, b...</td>\n",
       "      <td>This is a 750 sq ft 1 bedroom 1 bathroom.  Whi...</td>\n",
       "      <td>30369828</td>\n",
       "      <td>https://www.airbnb.com/users/show/30369828</td>\n",
       "      <td>Joshua</td>\n",
       "      <td>3/31/15</td>\n",
       "      <td>Baltimore, Maryland, United States</td>\n",
       "      <td>NaN</td>\n",
       "      <td>...</td>\n",
       "      <td>0</td>\n",
       "      <td>NaN</td>\n",
       "      <td>NaN</td>\n",
       "      <td>NaN</td>\n",
       "      <td>NaN</td>\n",
       "      <td>NaN</td>\n",
       "      <td>NaN</td>\n",
       "      <td>NaN</td>\n",
       "      <td>NaN</td>\n",
       "      <td>NaN</td>\n",
       "    </tr>\n",
       "  </tbody>\n",
       "</table>\n",
       "<p>5 rows × 64 columns</p>\n",
       "</div>"
      ],
      "text/plain": [
       "        id                                name  \\\n",
       "0  7087327  Historic DC Condo-Walk to Capitol!   \n",
       "1   975833     Spacious Capitol Hill Townhouse   \n",
       "2  8249488    Spacious/private room for single   \n",
       "3  8409022    A wonderful bedroom with library   \n",
       "4  8411173              Downtown Silver Spring   \n",
       "\n",
       "                                             summary  \\\n",
       "0  Professional pictures coming soon! Welcome to ...   \n",
       "1                                                NaN   \n",
       "2  This is an ideal room for a single traveler th...   \n",
       "3  Prime location right on the Potomac River in W...   \n",
       "4  Hi travellers! I live in this peaceful spot, b...   \n",
       "\n",
       "                                               space   host_id  \\\n",
       "0                                                NaN  15830506   \n",
       "1  Beautifully renovated Capitol Hill townhouse. ...   5338703   \n",
       "2                                                NaN   1487418   \n",
       "3                                                NaN  16970249   \n",
       "4  This is a 750 sq ft 1 bedroom 1 bathroom.  Whi...  30369828   \n",
       "\n",
       "                                     host_url    host_name host_since  \\\n",
       "0  https://www.airbnb.com/users/show/15830506  Lize & Greg    5/21/14   \n",
       "1   https://www.airbnb.com/users/show/5338703    Sebastian     3/5/13   \n",
       "2   https://www.airbnb.com/users/show/1487418        Craig    12/9/11   \n",
       "3  https://www.airbnb.com/users/show/16970249  Christopher    6/18/14   \n",
       "4  https://www.airbnb.com/users/show/30369828       Joshua    3/31/15   \n",
       "\n",
       "                                     host_location  \\\n",
       "0  Washington, District of Columbia, United States   \n",
       "1                New York, New York, United States   \n",
       "2  Washington, District of Columbia, United States   \n",
       "3  Washington, District of Columbia, United States   \n",
       "4               Baltimore, Maryland, United States   \n",
       "\n",
       "                                          host_about  ... number_of_reviews  \\\n",
       "0  We are two fun, friendly entrepreneurs living ...  ...                 0   \n",
       "1  Hi I'm Sebastian. \\r\\nAfter ten years in DC, m...  ...                65   \n",
       "2                                           just ask  ...                 1   \n",
       "3                                                NaN  ...                 0   \n",
       "4                                                NaN  ...                 0   \n",
       "\n",
       "  first_review last_review review_scores_rating review_scores_accuracy  \\\n",
       "0          NaN         NaN                  NaN                    NaN   \n",
       "1      3/22/13     9/28/15                 94.0                   10.0   \n",
       "2      9/10/15     9/10/15                  NaN                    NaN   \n",
       "3          NaN         NaN                  NaN                    NaN   \n",
       "4          NaN         NaN                  NaN                    NaN   \n",
       "\n",
       "  review_scores_cleanliness review_scores_checkin  \\\n",
       "0                       NaN                   NaN   \n",
       "1                       9.0                  10.0   \n",
       "2                       NaN                   NaN   \n",
       "3                       NaN                   NaN   \n",
       "4                       NaN                   NaN   \n",
       "\n",
       "   review_scores_communication  review_scores_location review_scores_value  \n",
       "0                          NaN                     NaN                 NaN  \n",
       "1                         10.0                     9.0                 9.0  \n",
       "2                          NaN                     NaN                 NaN  \n",
       "3                          NaN                     NaN                 NaN  \n",
       "4                          NaN                     NaN                 NaN  \n",
       "\n",
       "[5 rows x 64 columns]"
      ]
     },
     "execution_count": 2,
     "metadata": {},
     "output_type": "execute_result"
    }
   ],
   "source": [
    "airbnb.head()"
   ]
  },
  {
   "cell_type": "code",
   "execution_count": 3,
   "metadata": {},
   "outputs": [
    {
     "data": {
      "text/plain": [
       "(3723, 64)"
      ]
     },
     "execution_count": 3,
     "metadata": {},
     "output_type": "execute_result"
    }
   ],
   "source": [
    "airbnb.shape"
   ]
  },
  {
   "cell_type": "code",
   "execution_count": 4,
   "metadata": {},
   "outputs": [
    {
     "data": {
      "text/plain": [
       "Index(['id', 'name', 'summary', 'space', 'host_id', 'host_url', 'host_name',\n",
       "       'host_since', 'host_location', 'host_about', 'host_response_time',\n",
       "       'host_response_rate', 'host_acceptance_rate', 'host_is_superhost',\n",
       "       'host_thumbnail_url', 'host_picture_url', 'host_neighbourhood',\n",
       "       'host_listings_count', 'host_total_listings_count',\n",
       "       'host_has_profile_pic', 'host_identity_verified', 'street',\n",
       "       'neighbourhood', 'city', 'state', 'zipcode', 'market', 'country_code',\n",
       "       'latitude', 'longitude', 'is_location_exact', 'property_type',\n",
       "       'room_type', 'accommodates', 'bathrooms', 'bedrooms', 'beds',\n",
       "       'square_feet', 'price', 'weekly_price', 'monthly_price',\n",
       "       'security_deposit', 'cleaning_fee', 'guests_included', 'extra_people',\n",
       "       'minimum_nights', 'maximum_nights', 'calendar_updated',\n",
       "       'has_availability', 'availability_30', 'availability_60',\n",
       "       'availability_90', 'availability_365', 'calendar_last_scraped',\n",
       "       'number_of_reviews', 'first_review', 'last_review',\n",
       "       'review_scores_rating', 'review_scores_accuracy',\n",
       "       'review_scores_cleanliness', 'review_scores_checkin',\n",
       "       'review_scores_communication', 'review_scores_location',\n",
       "       'review_scores_value'],\n",
       "      dtype='object')"
      ]
     },
     "execution_count": 4,
     "metadata": {},
     "output_type": "execute_result"
    }
   ],
   "source": [
    "airbnb.columns"
   ]
  },
  {
   "cell_type": "code",
   "execution_count": 5,
   "metadata": {},
   "outputs": [
    {
     "data": {
      "text/plain": [
       "id                                0\n",
       "name                              0\n",
       "summary                         266\n",
       "space                           746\n",
       "host_id                           0\n",
       "host_url                          0\n",
       "host_name                         0\n",
       "host_since                        0\n",
       "host_location                     6\n",
       "host_about                      960\n",
       "host_response_time              434\n",
       "host_response_rate              434\n",
       "host_acceptance_rate            614\n",
       "host_is_superhost                 0\n",
       "host_thumbnail_url                0\n",
       "host_picture_url                  0\n",
       "host_neighbourhood              262\n",
       "host_listings_count               0\n",
       "host_total_listings_count         0\n",
       "host_has_profile_pic              0\n",
       "host_identity_verified            0\n",
       "street                            0\n",
       "neighbourhood                   353\n",
       "city                              0\n",
       "state                             0\n",
       "zipcode                           9\n",
       "market                            0\n",
       "country_code                      0\n",
       "latitude                          0\n",
       "longitude                         0\n",
       "                               ... \n",
       "bathrooms                        27\n",
       "bedrooms                         21\n",
       "beds                             11\n",
       "square_feet                    3641\n",
       "price                             0\n",
       "weekly_price                   1599\n",
       "monthly_price                  1916\n",
       "security_deposit               2297\n",
       "cleaning_fee                   1388\n",
       "guests_included                   0\n",
       "extra_people                      0\n",
       "minimum_nights                    0\n",
       "maximum_nights                    0\n",
       "calendar_updated                  0\n",
       "has_availability                  0\n",
       "availability_30                   0\n",
       "availability_60                   0\n",
       "availability_90                   0\n",
       "availability_365                  0\n",
       "calendar_last_scraped             0\n",
       "number_of_reviews                 0\n",
       "first_review                    830\n",
       "last_review                     830\n",
       "review_scores_rating            868\n",
       "review_scores_accuracy          875\n",
       "review_scores_cleanliness       876\n",
       "review_scores_checkin           876\n",
       "review_scores_communication     872\n",
       "review_scores_location          872\n",
       "review_scores_value             872\n",
       "Length: 64, dtype: int64"
      ]
     },
     "execution_count": 5,
     "metadata": {},
     "output_type": "execute_result"
    }
   ],
   "source": [
    "airbnb.isnull().sum()"
   ]
  },
  {
   "cell_type": "markdown",
   "metadata": {},
   "source": [
    "### STEP 2: Cleaning data set.\n",
    "-Review for possible...\n",
    "\n",
    "-remove\n",
    "\n",
    "-Check for duplicates in the unique id column (`id`)\n"
   ]
  },
  {
   "cell_type": "markdown",
   "metadata": {},
   "source": [
    "#### Remove listings without any reviews and possible duplicate rows where the bot may have re-recorded listing data"
   ]
  },
  {
   "cell_type": "code",
   "execution_count": 6,
   "metadata": {},
   "outputs": [
    {
     "data": {
      "text/html": [
       "<div>\n",
       "<style scoped>\n",
       "    .dataframe tbody tr th:only-of-type {\n",
       "        vertical-align: middle;\n",
       "    }\n",
       "\n",
       "    .dataframe tbody tr th {\n",
       "        vertical-align: top;\n",
       "    }\n",
       "\n",
       "    .dataframe thead th {\n",
       "        text-align: right;\n",
       "    }\n",
       "</style>\n",
       "<table border=\"1\" class=\"dataframe\">\n",
       "  <thead>\n",
       "    <tr style=\"text-align: right;\">\n",
       "      <th></th>\n",
       "      <th>host_name</th>\n",
       "      <th>number_of_reviews</th>\n",
       "    </tr>\n",
       "  </thead>\n",
       "  <tbody>\n",
       "    <tr>\n",
       "      <th>1</th>\n",
       "      <td>Sebastian</td>\n",
       "      <td>65</td>\n",
       "    </tr>\n",
       "    <tr>\n",
       "      <th>2</th>\n",
       "      <td>Craig</td>\n",
       "      <td>1</td>\n",
       "    </tr>\n",
       "    <tr>\n",
       "      <th>8</th>\n",
       "      <td>Qianwen</td>\n",
       "      <td>1</td>\n",
       "    </tr>\n",
       "    <tr>\n",
       "      <th>9</th>\n",
       "      <td>Eden Park</td>\n",
       "      <td>4</td>\n",
       "    </tr>\n",
       "    <tr>\n",
       "      <th>10</th>\n",
       "      <td>Danielle</td>\n",
       "      <td>5</td>\n",
       "    </tr>\n",
       "  </tbody>\n",
       "</table>\n",
       "</div>"
      ],
      "text/plain": [
       "    host_name  number_of_reviews\n",
       "1   Sebastian                 65\n",
       "2       Craig                  1\n",
       "8     Qianwen                  1\n",
       "9   Eden Park                  4\n",
       "10   Danielle                  5"
      ]
     },
     "execution_count": 6,
     "metadata": {},
     "output_type": "execute_result"
    }
   ],
   "source": [
    "airbnb =airbnb[airbnb['number_of_reviews']!=0]\n",
    "airbnb[['host_name','number_of_reviews']].head()"
   ]
  },
  {
   "cell_type": "code",
   "execution_count": 7,
   "metadata": {},
   "outputs": [
    {
     "data": {
      "text/html": [
       "<div>\n",
       "<style scoped>\n",
       "    .dataframe tbody tr th:only-of-type {\n",
       "        vertical-align: middle;\n",
       "    }\n",
       "\n",
       "    .dataframe tbody tr th {\n",
       "        vertical-align: top;\n",
       "    }\n",
       "\n",
       "    .dataframe thead th {\n",
       "        text-align: right;\n",
       "    }\n",
       "</style>\n",
       "<table border=\"1\" class=\"dataframe\">\n",
       "  <thead>\n",
       "    <tr style=\"text-align: right;\">\n",
       "      <th></th>\n",
       "      <th>host_name</th>\n",
       "      <th>city</th>\n",
       "    </tr>\n",
       "  </thead>\n",
       "  <tbody>\n",
       "    <tr>\n",
       "      <th>1</th>\n",
       "      <td>Sebastian</td>\n",
       "      <td>Washington</td>\n",
       "    </tr>\n",
       "    <tr>\n",
       "      <th>23</th>\n",
       "      <td>Annie</td>\n",
       "      <td>Washington</td>\n",
       "    </tr>\n",
       "    <tr>\n",
       "      <th>24</th>\n",
       "      <td>Joel</td>\n",
       "      <td>Washington</td>\n",
       "    </tr>\n",
       "    <tr>\n",
       "      <th>25</th>\n",
       "      <td>Mayrose</td>\n",
       "      <td>Washington</td>\n",
       "    </tr>\n",
       "    <tr>\n",
       "      <th>26</th>\n",
       "      <td>Matt</td>\n",
       "      <td>Washington</td>\n",
       "    </tr>\n",
       "  </tbody>\n",
       "</table>\n",
       "</div>"
      ],
      "text/plain": [
       "    host_name        city\n",
       "1   Sebastian  Washington\n",
       "23      Annie  Washington\n",
       "24       Joel  Washington\n",
       "25    Mayrose  Washington\n",
       "26       Matt  Washington"
      ]
     },
     "execution_count": 7,
     "metadata": {},
     "output_type": "execute_result"
    }
   ],
   "source": [
    "airbnb=airbnb[airbnb['city']=='Washington']\n",
    "\n",
    "airbnb[['host_name','city']].head()"
   ]
  },
  {
   "cell_type": "code",
   "execution_count": 8,
   "metadata": {},
   "outputs": [
    {
     "data": {
      "text/plain": [
       "0"
      ]
     },
     "execution_count": 8,
     "metadata": {},
     "output_type": "execute_result"
    }
   ],
   "source": [
    "airbnb.duplicated().sum()"
   ]
  },
  {
   "cell_type": "markdown",
   "metadata": {},
   "source": [
    "#### there are no duplicated rows when it comes to the ID"
   ]
  },
  {
   "cell_type": "markdown",
   "metadata": {},
   "source": [
    "### Number_of_reviews*2"
   ]
  },
  {
   "cell_type": "code",
   "execution_count": 9,
   "metadata": {},
   "outputs": [
    {
     "data": {
      "text/plain": [
       "1       130\n",
       "23       92\n",
       "24      168\n",
       "25       50\n",
       "26        8\n",
       "27        4\n",
       "28      166\n",
       "29       38\n",
       "30      188\n",
       "31       94\n",
       "32      300\n",
       "33       30\n",
       "35      138\n",
       "36        2\n",
       "37        4\n",
       "38       10\n",
       "39       66\n",
       "40       22\n",
       "41        6\n",
       "42       10\n",
       "43       58\n",
       "44       64\n",
       "45        2\n",
       "46       30\n",
       "48       10\n",
       "51       10\n",
       "52        2\n",
       "55       18\n",
       "58        2\n",
       "59        8\n",
       "       ... \n",
       "3688      2\n",
       "3689      2\n",
       "3690     48\n",
       "3691     30\n",
       "3692      6\n",
       "3694      6\n",
       "3696    354\n",
       "3698    204\n",
       "3699     14\n",
       "3700     22\n",
       "3702      8\n",
       "3703     30\n",
       "3704     14\n",
       "3705    102\n",
       "3706    200\n",
       "3707     34\n",
       "3708     28\n",
       "3709     10\n",
       "3710    398\n",
       "3711    230\n",
       "3713     16\n",
       "3714     16\n",
       "3715      6\n",
       "3716      2\n",
       "3717     16\n",
       "3718     38\n",
       "3719     72\n",
       "3720     24\n",
       "3721     96\n",
       "3722      2\n",
       "Name: number_of_reviews, Length: 2820, dtype: int64"
      ]
     },
     "execution_count": 9,
     "metadata": {},
     "output_type": "execute_result"
    }
   ],
   "source": [
    "proxy_number=airbnb.number_of_reviews*2\n",
    "proxy_number"
   ]
  },
  {
   "cell_type": "code",
   "execution_count": 10,
   "metadata": {},
   "outputs": [],
   "source": [
    "airbnb['num_stays'] = airbnb[\"number_of_reviews\"] * 2"
   ]
  },
  {
   "cell_type": "code",
   "execution_count": 11,
   "metadata": {},
   "outputs": [
    {
     "data": {
      "text/html": [
       "<div>\n",
       "<style scoped>\n",
       "    .dataframe tbody tr th:only-of-type {\n",
       "        vertical-align: middle;\n",
       "    }\n",
       "\n",
       "    .dataframe tbody tr th {\n",
       "        vertical-align: top;\n",
       "    }\n",
       "\n",
       "    .dataframe thead th {\n",
       "        text-align: right;\n",
       "    }\n",
       "</style>\n",
       "<table border=\"1\" class=\"dataframe\">\n",
       "  <thead>\n",
       "    <tr style=\"text-align: right;\">\n",
       "      <th></th>\n",
       "      <th>num_stays</th>\n",
       "      <th>number_of_reviews</th>\n",
       "    </tr>\n",
       "  </thead>\n",
       "  <tbody>\n",
       "    <tr>\n",
       "      <th>1</th>\n",
       "      <td>130</td>\n",
       "      <td>65</td>\n",
       "    </tr>\n",
       "  </tbody>\n",
       "</table>\n",
       "</div>"
      ],
      "text/plain": [
       "   num_stays  number_of_reviews\n",
       "1        130                 65"
      ]
     },
     "execution_count": 11,
     "metadata": {},
     "output_type": "execute_result"
    }
   ],
   "source": [
    "airbnb[['num_stays', 'number_of_reviews']].head(1)"
   ]
  },
  {
   "cell_type": "code",
   "execution_count": 12,
   "metadata": {},
   "outputs": [],
   "source": [
    "airbnb['price'] = airbnb['price'].str.replace('$', '').str.replace(',','')"
   ]
  },
  {
   "cell_type": "code",
   "execution_count": 13,
   "metadata": {},
   "outputs": [],
   "source": [
    "airbnb['price'] = pd.to_numeric(airbnb['price'])"
   ]
  },
  {
   "cell_type": "code",
   "execution_count": 14,
   "metadata": {},
   "outputs": [],
   "source": [
    "airbnb['extra_people'] = airbnb['extra_people'].str.replace('$', '').str.replace(',','')"
   ]
  },
  {
   "cell_type": "code",
   "execution_count": 15,
   "metadata": {},
   "outputs": [],
   "source": [
    "airbnb['extra_people'] = pd.to_numeric(airbnb['extra_people'])"
   ]
  },
  {
   "cell_type": "markdown",
   "metadata": {},
   "source": [
    "### PROMPT 1: How much revenue do successful hosts make?\n",
    "###### 1 - Estimate daily revenue:\n"
   ]
  },
  {
   "cell_type": "code",
   "execution_count": 16,
   "metadata": {},
   "outputs": [],
   "source": [
    "##step 2\n",
    "#A if airbnb.guests_included >1 = price\n",
    "#B if airbnb.guests_included =1 & accomedates=1=price\n",
    "#C if airbnb.guests_included =1 & accomedates>1= price+extra_people\n",
    "\n"
   ]
  },
  {
   "cell_type": "code",
   "execution_count": 17,
   "metadata": {
    "scrolled": true
   },
   "outputs": [
    {
     "data": {
      "text/html": [
       "<div>\n",
       "<style scoped>\n",
       "    .dataframe tbody tr th:only-of-type {\n",
       "        vertical-align: middle;\n",
       "    }\n",
       "\n",
       "    .dataframe tbody tr th {\n",
       "        vertical-align: top;\n",
       "    }\n",
       "\n",
       "    .dataframe thead th {\n",
       "        text-align: right;\n",
       "    }\n",
       "</style>\n",
       "<table border=\"1\" class=\"dataframe\">\n",
       "  <thead>\n",
       "    <tr style=\"text-align: right;\">\n",
       "      <th></th>\n",
       "      <th>id</th>\n",
       "      <th>name</th>\n",
       "      <th>summary</th>\n",
       "      <th>space</th>\n",
       "      <th>host_id</th>\n",
       "      <th>host_url</th>\n",
       "      <th>host_name</th>\n",
       "      <th>host_since</th>\n",
       "      <th>host_location</th>\n",
       "      <th>host_about</th>\n",
       "      <th>...</th>\n",
       "      <th>last_review</th>\n",
       "      <th>review_scores_rating</th>\n",
       "      <th>review_scores_accuracy</th>\n",
       "      <th>review_scores_cleanliness</th>\n",
       "      <th>review_scores_checkin</th>\n",
       "      <th>review_scores_communication</th>\n",
       "      <th>review_scores_location</th>\n",
       "      <th>review_scores_value</th>\n",
       "      <th>num_stays</th>\n",
       "      <th>estimated_daily_revenue</th>\n",
       "    </tr>\n",
       "  </thead>\n",
       "  <tbody>\n",
       "    <tr>\n",
       "      <th>1</th>\n",
       "      <td>975833</td>\n",
       "      <td>Spacious Capitol Hill Townhouse</td>\n",
       "      <td>NaN</td>\n",
       "      <td>Beautifully renovated Capitol Hill townhouse. ...</td>\n",
       "      <td>5338703</td>\n",
       "      <td>https://www.airbnb.com/users/show/5338703</td>\n",
       "      <td>Sebastian</td>\n",
       "      <td>3/5/13</td>\n",
       "      <td>New York, New York, United States</td>\n",
       "      <td>Hi I'm Sebastian. \\r\\nAfter ten years in DC, m...</td>\n",
       "      <td>...</td>\n",
       "      <td>9/28/15</td>\n",
       "      <td>94.0</td>\n",
       "      <td>10.0</td>\n",
       "      <td>9.0</td>\n",
       "      <td>10.0</td>\n",
       "      <td>10.0</td>\n",
       "      <td>9.0</td>\n",
       "      <td>9.0</td>\n",
       "      <td>130</td>\n",
       "      <td>350.0</td>\n",
       "    </tr>\n",
       "  </tbody>\n",
       "</table>\n",
       "<p>1 rows × 66 columns</p>\n",
       "</div>"
      ],
      "text/plain": [
       "       id                             name summary  \\\n",
       "1  975833  Spacious Capitol Hill Townhouse     NaN   \n",
       "\n",
       "                                               space  host_id  \\\n",
       "1  Beautifully renovated Capitol Hill townhouse. ...  5338703   \n",
       "\n",
       "                                    host_url  host_name host_since  \\\n",
       "1  https://www.airbnb.com/users/show/5338703  Sebastian     3/5/13   \n",
       "\n",
       "                       host_location  \\\n",
       "1  New York, New York, United States   \n",
       "\n",
       "                                          host_about  ... last_review  \\\n",
       "1  Hi I'm Sebastian. \\r\\nAfter ten years in DC, m...  ...     9/28/15   \n",
       "\n",
       "  review_scores_rating review_scores_accuracy review_scores_cleanliness  \\\n",
       "1                 94.0                   10.0                       9.0   \n",
       "\n",
       "  review_scores_checkin review_scores_communication review_scores_location  \\\n",
       "1                  10.0                        10.0                    9.0   \n",
       "\n",
       "   review_scores_value  num_stays estimated_daily_revenue  \n",
       "1                  9.0        130                   350.0  \n",
       "\n",
       "[1 rows x 66 columns]"
      ]
     },
     "execution_count": 17,
     "metadata": {},
     "output_type": "execute_result"
    }
   ],
   "source": [
    "def daily_revenue_function(airbnb):\n",
    "    if airbnb['guests_included'] > 1: \n",
    "        return airbnb['price'] \n",
    "    elif airbnb['guests_included'] == 1 and airbnb['accommodates'] == 1: \n",
    "        return airbnb['price'] \n",
    "    elif airbnb['guests_included'] == 1 and airbnb['accommodates'] > 1:\n",
    "        return airbnb['price'] + airbnb['extra_people']\n",
    "    \n",
    "airbnb['estimated_daily_revenue'] = airbnb.apply(daily_revenue_function, axis = 1)\n",
    "\n",
    "airbnb.head(1)\n"
   ]
  },
  {
   "cell_type": "code",
   "execution_count": 18,
   "metadata": {},
   "outputs": [
    {
     "data": {
      "text/html": [
       "<div>\n",
       "<style scoped>\n",
       "    .dataframe tbody tr th:only-of-type {\n",
       "        vertical-align: middle;\n",
       "    }\n",
       "\n",
       "    .dataframe tbody tr th {\n",
       "        vertical-align: top;\n",
       "    }\n",
       "\n",
       "    .dataframe thead th {\n",
       "        text-align: right;\n",
       "    }\n",
       "</style>\n",
       "<table border=\"1\" class=\"dataframe\">\n",
       "  <thead>\n",
       "    <tr style=\"text-align: right;\">\n",
       "      <th></th>\n",
       "      <th>estimated_daily_revenue</th>\n",
       "      <th>price</th>\n",
       "      <th>guests_included</th>\n",
       "      <th>accommodates</th>\n",
       "      <th>extra_people</th>\n",
       "    </tr>\n",
       "  </thead>\n",
       "  <tbody>\n",
       "    <tr>\n",
       "      <th>1</th>\n",
       "      <td>350.0</td>\n",
       "      <td>350.0</td>\n",
       "      <td>1</td>\n",
       "      <td>6</td>\n",
       "      <td>0.0</td>\n",
       "    </tr>\n",
       "  </tbody>\n",
       "</table>\n",
       "</div>"
      ],
      "text/plain": [
       "   estimated_daily_revenue  price  guests_included  accommodates  extra_people\n",
       "1                    350.0  350.0                1             6           0.0"
      ]
     },
     "execution_count": 18,
     "metadata": {},
     "output_type": "execute_result"
    }
   ],
   "source": [
    "airbnb[['estimated_daily_revenue', 'price', 'guests_included', 'accommodates', 'extra_people']].head(1)"
   ]
  },
  {
   "cell_type": "markdown",
   "metadata": {},
   "source": [
    "###### 2 - Estimate daily revenue per booking\n",
    "\n",
    "###### Minume_nights*step 2 daily revenue\n"
   ]
  },
  {
   "cell_type": "code",
   "execution_count": 19,
   "metadata": {},
   "outputs": [
    {
     "data": {
      "text/html": [
       "<div>\n",
       "<style scoped>\n",
       "    .dataframe tbody tr th:only-of-type {\n",
       "        vertical-align: middle;\n",
       "    }\n",
       "\n",
       "    .dataframe tbody tr th {\n",
       "        vertical-align: top;\n",
       "    }\n",
       "\n",
       "    .dataframe thead th {\n",
       "        text-align: right;\n",
       "    }\n",
       "</style>\n",
       "<table border=\"1\" class=\"dataframe\">\n",
       "  <thead>\n",
       "    <tr style=\"text-align: right;\">\n",
       "      <th></th>\n",
       "      <th>id</th>\n",
       "      <th>name</th>\n",
       "      <th>summary</th>\n",
       "      <th>space</th>\n",
       "      <th>host_id</th>\n",
       "      <th>host_url</th>\n",
       "      <th>host_name</th>\n",
       "      <th>host_since</th>\n",
       "      <th>host_location</th>\n",
       "      <th>host_about</th>\n",
       "      <th>...</th>\n",
       "      <th>review_scores_rating</th>\n",
       "      <th>review_scores_accuracy</th>\n",
       "      <th>review_scores_cleanliness</th>\n",
       "      <th>review_scores_checkin</th>\n",
       "      <th>review_scores_communication</th>\n",
       "      <th>review_scores_location</th>\n",
       "      <th>review_scores_value</th>\n",
       "      <th>num_stays</th>\n",
       "      <th>estimated_daily_revenue</th>\n",
       "      <th>revenue_per_booking</th>\n",
       "    </tr>\n",
       "  </thead>\n",
       "  <tbody>\n",
       "    <tr>\n",
       "      <th>1</th>\n",
       "      <td>975833</td>\n",
       "      <td>Spacious Capitol Hill Townhouse</td>\n",
       "      <td>NaN</td>\n",
       "      <td>Beautifully renovated Capitol Hill townhouse. ...</td>\n",
       "      <td>5338703</td>\n",
       "      <td>https://www.airbnb.com/users/show/5338703</td>\n",
       "      <td>Sebastian</td>\n",
       "      <td>3/5/13</td>\n",
       "      <td>New York, New York, United States</td>\n",
       "      <td>Hi I'm Sebastian. \\r\\nAfter ten years in DC, m...</td>\n",
       "      <td>...</td>\n",
       "      <td>94.0</td>\n",
       "      <td>10.0</td>\n",
       "      <td>9.0</td>\n",
       "      <td>10.0</td>\n",
       "      <td>10.0</td>\n",
       "      <td>9.0</td>\n",
       "      <td>9.0</td>\n",
       "      <td>130</td>\n",
       "      <td>350.0</td>\n",
       "      <td>700.0</td>\n",
       "    </tr>\n",
       "  </tbody>\n",
       "</table>\n",
       "<p>1 rows × 67 columns</p>\n",
       "</div>"
      ],
      "text/plain": [
       "       id                             name summary  \\\n",
       "1  975833  Spacious Capitol Hill Townhouse     NaN   \n",
       "\n",
       "                                               space  host_id  \\\n",
       "1  Beautifully renovated Capitol Hill townhouse. ...  5338703   \n",
       "\n",
       "                                    host_url  host_name host_since  \\\n",
       "1  https://www.airbnb.com/users/show/5338703  Sebastian     3/5/13   \n",
       "\n",
       "                       host_location  \\\n",
       "1  New York, New York, United States   \n",
       "\n",
       "                                          host_about  ...  \\\n",
       "1  Hi I'm Sebastian. \\r\\nAfter ten years in DC, m...  ...   \n",
       "\n",
       "  review_scores_rating review_scores_accuracy review_scores_cleanliness  \\\n",
       "1                 94.0                   10.0                       9.0   \n",
       "\n",
       "  review_scores_checkin review_scores_communication review_scores_location  \\\n",
       "1                  10.0                        10.0                    9.0   \n",
       "\n",
       "  review_scores_value  num_stays  estimated_daily_revenue revenue_per_booking  \n",
       "1                 9.0        130                    350.0               700.0  \n",
       "\n",
       "[1 rows x 67 columns]"
      ]
     },
     "execution_count": 19,
     "metadata": {},
     "output_type": "execute_result"
    }
   ],
   "source": [
    "def per_booking(airbnb):\n",
    "    return airbnb.minimum_nights*airbnb.estimated_daily_revenue\n",
    "    \n",
    "airbnb['revenue_per_booking'] = airbnb.apply(per_booking, axis = 1)\n",
    "\n",
    "airbnb.head(1)"
   ]
  },
  {
   "cell_type": "code",
   "execution_count": 20,
   "metadata": {
    "scrolled": true
   },
   "outputs": [
    {
     "data": {
      "text/html": [
       "<div>\n",
       "<style scoped>\n",
       "    .dataframe tbody tr th:only-of-type {\n",
       "        vertical-align: middle;\n",
       "    }\n",
       "\n",
       "    .dataframe tbody tr th {\n",
       "        vertical-align: top;\n",
       "    }\n",
       "\n",
       "    .dataframe thead th {\n",
       "        text-align: right;\n",
       "    }\n",
       "</style>\n",
       "<table border=\"1\" class=\"dataframe\">\n",
       "  <thead>\n",
       "    <tr style=\"text-align: right;\">\n",
       "      <th></th>\n",
       "      <th>estimated_daily_revenue</th>\n",
       "      <th>price</th>\n",
       "      <th>guests_included</th>\n",
       "      <th>accommodates</th>\n",
       "      <th>extra_people</th>\n",
       "      <th>revenue_per_booking</th>\n",
       "    </tr>\n",
       "  </thead>\n",
       "  <tbody>\n",
       "    <tr>\n",
       "      <th>1</th>\n",
       "      <td>350.0</td>\n",
       "      <td>350.0</td>\n",
       "      <td>1</td>\n",
       "      <td>6</td>\n",
       "      <td>0.0</td>\n",
       "      <td>700.0</td>\n",
       "    </tr>\n",
       "  </tbody>\n",
       "</table>\n",
       "</div>"
      ],
      "text/plain": [
       "   estimated_daily_revenue  price  guests_included  accommodates  \\\n",
       "1                    350.0  350.0                1             6   \n",
       "\n",
       "   extra_people  revenue_per_booking  \n",
       "1           0.0                700.0  "
      ]
     },
     "execution_count": 20,
     "metadata": {},
     "output_type": "execute_result"
    }
   ],
   "source": [
    "airbnb[['estimated_daily_revenue', 'price', 'guests_included', 'accommodates', 'extra_people', 'revenue_per_booking']].head(1)"
   ]
  },
  {
   "cell_type": "markdown",
   "metadata": {},
   "source": [
    "###### 3 - Estimated total revenue\n",
    "###### Estimated total revenue =step3*step1 results"
   ]
  },
  {
   "cell_type": "code",
   "execution_count": 21,
   "metadata": {
    "scrolled": true
   },
   "outputs": [
    {
     "data": {
      "text/html": [
       "<div>\n",
       "<style scoped>\n",
       "    .dataframe tbody tr th:only-of-type {\n",
       "        vertical-align: middle;\n",
       "    }\n",
       "\n",
       "    .dataframe tbody tr th {\n",
       "        vertical-align: top;\n",
       "    }\n",
       "\n",
       "    .dataframe thead th {\n",
       "        text-align: right;\n",
       "    }\n",
       "</style>\n",
       "<table border=\"1\" class=\"dataframe\">\n",
       "  <thead>\n",
       "    <tr style=\"text-align: right;\">\n",
       "      <th></th>\n",
       "      <th>id</th>\n",
       "      <th>name</th>\n",
       "      <th>summary</th>\n",
       "      <th>space</th>\n",
       "      <th>host_id</th>\n",
       "      <th>host_url</th>\n",
       "      <th>host_name</th>\n",
       "      <th>host_since</th>\n",
       "      <th>host_location</th>\n",
       "      <th>host_about</th>\n",
       "      <th>...</th>\n",
       "      <th>review_scores_accuracy</th>\n",
       "      <th>review_scores_cleanliness</th>\n",
       "      <th>review_scores_checkin</th>\n",
       "      <th>review_scores_communication</th>\n",
       "      <th>review_scores_location</th>\n",
       "      <th>review_scores_value</th>\n",
       "      <th>num_stays</th>\n",
       "      <th>estimated_daily_revenue</th>\n",
       "      <th>revenue_per_booking</th>\n",
       "      <th>total_revenue</th>\n",
       "    </tr>\n",
       "  </thead>\n",
       "  <tbody>\n",
       "    <tr>\n",
       "      <th>1</th>\n",
       "      <td>975833</td>\n",
       "      <td>Spacious Capitol Hill Townhouse</td>\n",
       "      <td>NaN</td>\n",
       "      <td>Beautifully renovated Capitol Hill townhouse. ...</td>\n",
       "      <td>5338703</td>\n",
       "      <td>https://www.airbnb.com/users/show/5338703</td>\n",
       "      <td>Sebastian</td>\n",
       "      <td>3/5/13</td>\n",
       "      <td>New York, New York, United States</td>\n",
       "      <td>Hi I'm Sebastian. \\r\\nAfter ten years in DC, m...</td>\n",
       "      <td>...</td>\n",
       "      <td>10.0</td>\n",
       "      <td>9.0</td>\n",
       "      <td>10.0</td>\n",
       "      <td>10.0</td>\n",
       "      <td>9.0</td>\n",
       "      <td>9.0</td>\n",
       "      <td>130</td>\n",
       "      <td>350.0</td>\n",
       "      <td>700.0</td>\n",
       "      <td>91000.0</td>\n",
       "    </tr>\n",
       "  </tbody>\n",
       "</table>\n",
       "<p>1 rows × 68 columns</p>\n",
       "</div>"
      ],
      "text/plain": [
       "       id                             name summary  \\\n",
       "1  975833  Spacious Capitol Hill Townhouse     NaN   \n",
       "\n",
       "                                               space  host_id  \\\n",
       "1  Beautifully renovated Capitol Hill townhouse. ...  5338703   \n",
       "\n",
       "                                    host_url  host_name host_since  \\\n",
       "1  https://www.airbnb.com/users/show/5338703  Sebastian     3/5/13   \n",
       "\n",
       "                       host_location  \\\n",
       "1  New York, New York, United States   \n",
       "\n",
       "                                          host_about  ...  \\\n",
       "1  Hi I'm Sebastian. \\r\\nAfter ten years in DC, m...  ...   \n",
       "\n",
       "  review_scores_accuracy review_scores_cleanliness review_scores_checkin  \\\n",
       "1                   10.0                       9.0                  10.0   \n",
       "\n",
       "  review_scores_communication review_scores_location review_scores_value  \\\n",
       "1                        10.0                    9.0                 9.0   \n",
       "\n",
       "  num_stays  estimated_daily_revenue  revenue_per_booking total_revenue  \n",
       "1       130                    350.0                700.0       91000.0  \n",
       "\n",
       "[1 rows x 68 columns]"
      ]
     },
     "execution_count": 21,
     "metadata": {},
     "output_type": "execute_result"
    }
   ],
   "source": [
    "def total_rev(airbnb):\n",
    "    return airbnb.num_stays*airbnb.revenue_per_booking\n",
    "    \n",
    "airbnb['total_revenue'] = airbnb.apply(total_rev, axis = 1)\n",
    "\n",
    "airbnb.head(1)"
   ]
  },
  {
   "cell_type": "code",
   "execution_count": 22,
   "metadata": {},
   "outputs": [
    {
     "data": {
      "text/html": [
       "<div>\n",
       "<style scoped>\n",
       "    .dataframe tbody tr th:only-of-type {\n",
       "        vertical-align: middle;\n",
       "    }\n",
       "\n",
       "    .dataframe tbody tr th {\n",
       "        vertical-align: top;\n",
       "    }\n",
       "\n",
       "    .dataframe thead th {\n",
       "        text-align: right;\n",
       "    }\n",
       "</style>\n",
       "<table border=\"1\" class=\"dataframe\">\n",
       "  <thead>\n",
       "    <tr style=\"text-align: right;\">\n",
       "      <th></th>\n",
       "      <th>estimated_daily_revenue</th>\n",
       "      <th>price</th>\n",
       "      <th>guests_included</th>\n",
       "      <th>accommodates</th>\n",
       "      <th>extra_people</th>\n",
       "      <th>revenue_per_booking</th>\n",
       "      <th>total_revenue</th>\n",
       "    </tr>\n",
       "  </thead>\n",
       "  <tbody>\n",
       "    <tr>\n",
       "      <th>1</th>\n",
       "      <td>350.0</td>\n",
       "      <td>350.0</td>\n",
       "      <td>1</td>\n",
       "      <td>6</td>\n",
       "      <td>0.0</td>\n",
       "      <td>700.0</td>\n",
       "      <td>91000.0</td>\n",
       "    </tr>\n",
       "  </tbody>\n",
       "</table>\n",
       "</div>"
      ],
      "text/plain": [
       "   estimated_daily_revenue  price  guests_included  accommodates  \\\n",
       "1                    350.0  350.0                1             6   \n",
       "\n",
       "   extra_people  revenue_per_booking  total_revenue  \n",
       "1           0.0                700.0        91000.0  "
      ]
     },
     "execution_count": 22,
     "metadata": {},
     "output_type": "execute_result"
    }
   ],
   "source": [
    "airbnb[['estimated_daily_revenue', 'price', 'guests_included', 'accommodates', 'extra_people', 'revenue_per_booking', 'total_revenue']].head(1)"
   ]
  },
  {
   "cell_type": "code",
   "execution_count": 23,
   "metadata": {},
   "outputs": [],
   "source": [
    "#PROMPT 1 :Groupbys and/or  PivotTables should contain the host name, total revenue, and number of listings"
   ]
  },
  {
   "cell_type": "code",
   "execution_count": 24,
   "metadata": {},
   "outputs": [
    {
     "data": {
      "text/html": [
       "<div>\n",
       "<style scoped>\n",
       "    .dataframe tbody tr th:only-of-type {\n",
       "        vertical-align: middle;\n",
       "    }\n",
       "\n",
       "    .dataframe tbody tr th {\n",
       "        vertical-align: top;\n",
       "    }\n",
       "\n",
       "    .dataframe thead th {\n",
       "        text-align: right;\n",
       "    }\n",
       "</style>\n",
       "<table border=\"1\" class=\"dataframe\">\n",
       "  <thead>\n",
       "    <tr style=\"text-align: right;\">\n",
       "      <th></th>\n",
       "      <th>total_revenues</th>\n",
       "      <th>number_of_listings</th>\n",
       "    </tr>\n",
       "    <tr>\n",
       "      <th>host_name</th>\n",
       "      <th></th>\n",
       "      <th></th>\n",
       "    </tr>\n",
       "  </thead>\n",
       "  <tbody>\n",
       "    <tr>\n",
       "      <th>Hermosa</th>\n",
       "      <td>923036.0</td>\n",
       "      <td>2</td>\n",
       "    </tr>\n",
       "    <tr>\n",
       "      <th>Charlotte</th>\n",
       "      <td>784536.0</td>\n",
       "      <td>31</td>\n",
       "    </tr>\n",
       "    <tr>\n",
       "      <th>Cliff</th>\n",
       "      <td>776106.0</td>\n",
       "      <td>26</td>\n",
       "    </tr>\n",
       "    <tr>\n",
       "      <th>Gohar</th>\n",
       "      <td>490140.0</td>\n",
       "      <td>4</td>\n",
       "    </tr>\n",
       "    <tr>\n",
       "      <th>Jessica</th>\n",
       "      <td>432646.0</td>\n",
       "      <td>11</td>\n",
       "    </tr>\n",
       "    <tr>\n",
       "      <th>Seamless</th>\n",
       "      <td>419822.0</td>\n",
       "      <td>42</td>\n",
       "    </tr>\n",
       "    <tr>\n",
       "      <th>Heather</th>\n",
       "      <td>394424.0</td>\n",
       "      <td>13</td>\n",
       "    </tr>\n",
       "    <tr>\n",
       "      <th>Matt And Jean</th>\n",
       "      <td>329850.0</td>\n",
       "      <td>2</td>\n",
       "    </tr>\n",
       "    <tr>\n",
       "      <th>The Remuzzi Brothers</th>\n",
       "      <td>314932.0</td>\n",
       "      <td>2</td>\n",
       "    </tr>\n",
       "    <tr>\n",
       "      <th>Art</th>\n",
       "      <td>312840.0</td>\n",
       "      <td>5</td>\n",
       "    </tr>\n",
       "    <tr>\n",
       "      <th>Leslie &amp; Joe</th>\n",
       "      <td>312052.0</td>\n",
       "      <td>5</td>\n",
       "    </tr>\n",
       "    <tr>\n",
       "      <th>David</th>\n",
       "      <td>310726.0</td>\n",
       "      <td>31</td>\n",
       "    </tr>\n",
       "    <tr>\n",
       "      <th>Lara &amp; Alex</th>\n",
       "      <td>295764.0</td>\n",
       "      <td>19</td>\n",
       "    </tr>\n",
       "    <tr>\n",
       "      <th>John</th>\n",
       "      <td>248512.0</td>\n",
       "      <td>35</td>\n",
       "    </tr>\n",
       "    <tr>\n",
       "      <th>Ethan</th>\n",
       "      <td>248370.0</td>\n",
       "      <td>5</td>\n",
       "    </tr>\n",
       "  </tbody>\n",
       "</table>\n",
       "</div>"
      ],
      "text/plain": [
       "                      total_revenues  number_of_listings\n",
       "host_name                                               \n",
       "Hermosa                     923036.0                   2\n",
       "Charlotte                   784536.0                  31\n",
       "Cliff                       776106.0                  26\n",
       "Gohar                       490140.0                   4\n",
       "Jessica                     432646.0                  11\n",
       "Seamless                    419822.0                  42\n",
       "Heather                     394424.0                  13\n",
       "Matt And Jean               329850.0                   2\n",
       "The Remuzzi Brothers        314932.0                   2\n",
       "Art                         312840.0                   5\n",
       "Leslie & Joe                312052.0                   5\n",
       "David                       310726.0                  31\n",
       "Lara & Alex                 295764.0                  19\n",
       "John                        248512.0                  35\n",
       "Ethan                       248370.0                   5"
      ]
     },
     "execution_count": 24,
     "metadata": {},
     "output_type": "execute_result"
    }
   ],
   "source": [
    "total_revenue_per_stay=airbnb.total_revenue/airbnb.num_stays\n",
    "groupby_revenue_per_listing = airbnb.groupby('host_name').agg({ 'total_revenue':'sum','id':'count'}). \\\n",
    "                            rename(columns = { 'total_revenue': 'total_revenues','id': 'number_of_listings'}). \\\n",
    "                               sort_values(by = 'total_revenues', ascending = False)\n",
    "\n",
    "\n",
    "groupby_revenue_per_listing.head(15)"
   ]
  },
  {
   "cell_type": "code",
   "execution_count": 25,
   "metadata": {},
   "outputs": [
    {
     "data": {
      "image/png": "[encoded data removed]",
      "text/plain": [
       "<Figure size 432x288 with 1 Axes>"
      ]
     },
     "metadata": {
      "needs_background": "light"
     },
     "output_type": "display_data"
    }
   ],
   "source": [
    "groupby_revenue_per_listing[:10]\\\n",
    ".plot(kind='barh');\n"
   ]
  },
  {
   "cell_type": "code",
   "execution_count": 26,
   "metadata": {},
   "outputs": [
    {
     "data": {
      "text/plain": [
       "<matplotlib.axes._subplots.AxesSubplot at 0x1a1a188668>"
      ]
     },
     "execution_count": 26,
     "metadata": {},
     "output_type": "execute_result"
    },
    {
     "data": {
      "image/png": "[encoded data removed]",
      "text/plain": [
       "<Figure size 432x288 with 1 Axes>"
      ]
     },
     "metadata": {
      "needs_background": "light"
     },
     "output_type": "display_data"
    }
   ],
   "source": [
    "airbnb.host_name.value_counts()[:4].sort_values(ascending=False).plot(kind='barh')"
   ]
  },
  {
   "cell_type": "markdown",
   "metadata": {},
   "source": [
    "### RECOMMENDATION\n",
    "\n",
    "#### Our recommendation is that Hermosa received the most income. Also Hermosa received most income per listing.\n",
    "#### The most listings was Seamless"
   ]
  },
  {
   "cell_type": "markdown",
   "metadata": {},
   "source": [
    "### PROMPT 2: Which property types receive the most positive reviews?\n",
    "\n",
    "● Build several Groupbys and/or PivotTables in order to quickly\n",
    "explore the data at a high level:\n",
    "\n",
    "○ Groupbys and/or PivotTables should contain the property type,\n",
    "number of listings (make sure to exclude listings with no\n",
    "bookings), and average rating.\n",
    "\n",
    "○ Additional Groupbys and/or PivotTables are welcome and\n",
    "useful for gaining a better understanding of the data.\n",
    "\n",
    "###### PROMPT 2 :contain PROPERTY TYPE, ID , REVIEW SCORE RATING"
   ]
  },
  {
   "cell_type": "code",
   "execution_count": 27,
   "metadata": {},
   "outputs": [
    {
     "data": {
      "text/html": [
       "<div>\n",
       "<style scoped>\n",
       "    .dataframe tbody tr th:only-of-type {\n",
       "        vertical-align: middle;\n",
       "    }\n",
       "\n",
       "    .dataframe tbody tr th {\n",
       "        vertical-align: top;\n",
       "    }\n",
       "\n",
       "    .dataframe thead th {\n",
       "        text-align: right;\n",
       "    }\n",
       "</style>\n",
       "<table border=\"1\" class=\"dataframe\">\n",
       "  <thead>\n",
       "    <tr style=\"text-align: right;\">\n",
       "      <th></th>\n",
       "      <th>number_of_listings</th>\n",
       "      <th>average_rating</th>\n",
       "    </tr>\n",
       "    <tr>\n",
       "      <th>property_type</th>\n",
       "      <th></th>\n",
       "      <th></th>\n",
       "    </tr>\n",
       "  </thead>\n",
       "  <tbody>\n",
       "    <tr>\n",
       "      <th>Apartment</th>\n",
       "      <td>1718</td>\n",
       "      <td>93.299882</td>\n",
       "    </tr>\n",
       "    <tr>\n",
       "      <th>House</th>\n",
       "      <td>938</td>\n",
       "      <td>93.602371</td>\n",
       "    </tr>\n",
       "    <tr>\n",
       "      <th>Condominium</th>\n",
       "      <td>48</td>\n",
       "      <td>95.791667</td>\n",
       "    </tr>\n",
       "    <tr>\n",
       "      <th>Townhouse</th>\n",
       "      <td>48</td>\n",
       "      <td>95.319149</td>\n",
       "    </tr>\n",
       "    <tr>\n",
       "      <th>Bed &amp; Breakfast</th>\n",
       "      <td>36</td>\n",
       "      <td>92.111111</td>\n",
       "    </tr>\n",
       "    <tr>\n",
       "      <th>Loft</th>\n",
       "      <td>19</td>\n",
       "      <td>93.157895</td>\n",
       "    </tr>\n",
       "    <tr>\n",
       "      <th>Other</th>\n",
       "      <td>8</td>\n",
       "      <td>84.500000</td>\n",
       "    </tr>\n",
       "    <tr>\n",
       "      <th>Dorm</th>\n",
       "      <td>2</td>\n",
       "      <td>60.000000</td>\n",
       "    </tr>\n",
       "    <tr>\n",
       "      <th>Bungalow</th>\n",
       "      <td>1</td>\n",
       "      <td>100.000000</td>\n",
       "    </tr>\n",
       "    <tr>\n",
       "      <th>Cabin</th>\n",
       "      <td>1</td>\n",
       "      <td>97.000000</td>\n",
       "    </tr>\n",
       "  </tbody>\n",
       "</table>\n",
       "</div>"
      ],
      "text/plain": [
       "                 number_of_listings  average_rating\n",
       "property_type                                      \n",
       "Apartment                      1718       93.299882\n",
       "House                           938       93.602371\n",
       "Condominium                      48       95.791667\n",
       "Townhouse                        48       95.319149\n",
       "Bed & Breakfast                  36       92.111111\n",
       "Loft                             19       93.157895\n",
       "Other                             8       84.500000\n",
       "Dorm                              2       60.000000\n",
       "Bungalow                          1      100.000000\n",
       "Cabin                             1       97.000000"
      ]
     },
     "execution_count": 27,
     "metadata": {},
     "output_type": "execute_result"
    }
   ],
   "source": [
    "airbnb =airbnb[airbnb['review_scores_rating']!=0]\n",
    "groupby_property_type = airbnb.groupby('property_type').agg({'id':'count', 'review_scores_rating': 'mean'}). \\\n",
    "                            rename(columns = {'id': 'number_of_listings', 'review_scores_rating': 'average_rating'}). \\\n",
    "                               sort_values(by = 'number_of_listings', ascending = False)\n",
    "\n",
    "\n",
    "groupby_property_type"
   ]
  },
  {
   "cell_type": "markdown",
   "metadata": {},
   "source": [
    "## We took only property types with more that 20 reviews, the range below represents a y-axis zoom to determine the highest rated type. condominium won with 95.79% rating and 48 reviews."
   ]
  },
  {
   "cell_type": "code",
   "execution_count": 28,
   "metadata": {},
   "outputs": [
    {
     "data": {
      "text/plain": [
       "(90, 100)"
      ]
     },
     "execution_count": 28,
     "metadata": {},
     "output_type": "execute_result"
    },
    {
     "data": {
      "image/png": "[encoded data removed]",
      "text/plain": [
       "<Figure size 432x288 with 1 Axes>"
      ]
     },
     "metadata": {
      "needs_background": "light"
     },
     "output_type": "display_data"
    }
   ],
   "source": [
    "groupby_property_type.average_rating[:5].sort_values(ascending=False).plot(kind='bar')\n",
    "axes= plt.gca()\n",
    "axes.set_ylim([90,100])"
   ]
  },
  {
   "cell_type": "code",
   "execution_count": 29,
   "metadata": {
    "scrolled": true
   },
   "outputs": [
    {
     "data": {
      "image/png": "[encoded data removed]",
      "text/plain": [
       "<Figure size 720x360 with 1 Axes>"
      ]
     },
     "metadata": {},
     "output_type": "display_data"
    }
   ],
   "source": [
    "# fig, ax = plt.subplots(figsize = (17,10))\n",
    "\n",
    "# plot = sns.boxplot(x = \"property_type\", y = \"host_listings_count\", data = airbnb, ax = ax)\n",
    "# plot.set_title('listing vs money \\n', color = 'Maroon', fontsize = 20)\n",
    "# plot.set_xlabel('\\n Propperty Type', color = 'black', fontsize = 17)\n",
    "# plot.set_ylabel('number of listing  \\n', color = 'black', fontsize = 17);\n",
    "\n",
    "\n",
    "subset_air=airbnb[~airbnb['property_type'].isin(['Dorm', 'Bungalow', 'Cabin', 'Other'])]\n",
    "sns.set(rc={'figure.figsize':(10,5)})\n",
    "sns_plot=sns.boxplot(x='property_type',color='green', y='estimated_daily_revenue', data=subset_air);\n",
    "plt.title('Estimated Daily Revenue Per Property Type',color='orange', fontsize=20);\n",
    "plt.ylabel('Estimated Daily Revenue',color='red', fontsize=16), plt.xlabel('Property Type',color='blue', fontsize=18);\n"
   ]
  },
  {
   "cell_type": "markdown",
   "metadata": {},
   "source": [
    "### RECOMMENDATION\n",
    "\n",
    "##### Our recommendation for the property type based on most positive reviews is Condominium"
   ]
  },
  {
   "cell_type": "markdown",
   "metadata": {},
   "source": [
    "### PROMPT 3: Which neighborhoods host the most listings?\n",
    "\n",
    "###### PROMPT 3: Which neighborhoods host the most listings?\n",
    "###### Groupbys and/or  PivotTables should contain MOST LISTING PER NEIGHBORHOOD"
   ]
  },
  {
   "cell_type": "code",
   "execution_count": 30,
   "metadata": {},
   "outputs": [
    {
     "data": {
      "text/html": [
       "<div>\n",
       "<style scoped>\n",
       "    .dataframe tbody tr th:only-of-type {\n",
       "        vertical-align: middle;\n",
       "    }\n",
       "\n",
       "    .dataframe tbody tr th {\n",
       "        vertical-align: top;\n",
       "    }\n",
       "\n",
       "    .dataframe thead th {\n",
       "        text-align: right;\n",
       "    }\n",
       "</style>\n",
       "<table border=\"1\" class=\"dataframe\">\n",
       "  <thead>\n",
       "    <tr style=\"text-align: right;\">\n",
       "      <th></th>\n",
       "      <th>number_of_listings</th>\n",
       "    </tr>\n",
       "    <tr>\n",
       "      <th>host_neighbourhood</th>\n",
       "      <th></th>\n",
       "    </tr>\n",
       "  </thead>\n",
       "  <tbody>\n",
       "    <tr>\n",
       "      <th>Capitol Hill</th>\n",
       "      <td>242</td>\n",
       "    </tr>\n",
       "    <tr>\n",
       "      <th>Columbia Heights</th>\n",
       "      <td>194</td>\n",
       "    </tr>\n",
       "    <tr>\n",
       "      <th>Dupont Circle</th>\n",
       "      <td>167</td>\n",
       "    </tr>\n",
       "    <tr>\n",
       "      <th>Logan Circle</th>\n",
       "      <td>137</td>\n",
       "    </tr>\n",
       "    <tr>\n",
       "      <th>U Street Corridor</th>\n",
       "      <td>124</td>\n",
       "    </tr>\n",
       "    <tr>\n",
       "      <th>Adams Morgan</th>\n",
       "      <td>108</td>\n",
       "    </tr>\n",
       "    <tr>\n",
       "      <th>Near Northeast/H Street Corridor</th>\n",
       "      <td>100</td>\n",
       "    </tr>\n",
       "    <tr>\n",
       "      <th>Shaw</th>\n",
       "      <td>91</td>\n",
       "    </tr>\n",
       "    <tr>\n",
       "      <th>Petworth</th>\n",
       "      <td>79</td>\n",
       "    </tr>\n",
       "    <tr>\n",
       "      <th>Mount Pleasant</th>\n",
       "      <td>70</td>\n",
       "    </tr>\n",
       "  </tbody>\n",
       "</table>\n",
       "</div>"
      ],
      "text/plain": [
       "                                  number_of_listings\n",
       "host_neighbourhood                                  \n",
       "Capitol Hill                                     242\n",
       "Columbia Heights                                 194\n",
       "Dupont Circle                                    167\n",
       "Logan Circle                                     137\n",
       "U Street Corridor                                124\n",
       "Adams Morgan                                     108\n",
       "Near Northeast/H Street Corridor                 100\n",
       "Shaw                                              91\n",
       "Petworth                                          79\n",
       "Mount Pleasant                                    70"
      ]
     },
     "execution_count": 30,
     "metadata": {},
     "output_type": "execute_result"
    }
   ],
   "source": [
    "groupby_neighborhood_listing = airbnb.groupby('host_neighbourhood').agg({'id':'count'}). \\\n",
    "                            rename(columns = {'id': 'number_of_listings'}). \\\n",
    "                               sort_values(by = 'number_of_listings', ascending = False)\n",
    "\n",
    "\n",
    "groupby_neighborhood_listing.head(10)"
   ]
  },
  {
   "cell_type": "code",
   "execution_count": 31,
   "metadata": {},
   "outputs": [
    {
     "data": {
      "text/plain": [
       "Text(0.5, 1.0, '% title')"
      ]
     },
     "execution_count": 31,
     "metadata": {},
     "output_type": "execute_result"
    },
    {
     "data": {
      "image/png": "[encoded data removed]",
      "text/plain": [
       "<Figure size 432x432 with 1 Axes>"
      ]
     },
     "metadata": {},
     "output_type": "display_data"
    }
   ],
   "source": [
    "groupby_neighborhood_listing.sort_values('number_of_listings', ascending = False).head(5).plot.pie(y='number_of_listings', figsize=(6, 6), legend =False, autopct='%1.0f%%');\n",
    "\n",
    "plt.title('% title')"
   ]
  },
  {
   "cell_type": "markdown",
   "metadata": {},
   "source": [
    "### RECOMMENDATION\n",
    "\n",
    "#### Our recommendation for the best neibourhood is Capital Hill"
   ]
  },
  {
   "cell_type": "markdown",
   "metadata": {},
   "source": [
    "### PROMPT 4: Which neighborhoods receive the most positive reviews?\n",
    "\n",
    "\n",
    "###### Groupbys and/or  PivotTables should contain best rating PER NEIGHBORHOOD"
   ]
  },
  {
   "cell_type": "code",
   "execution_count": 32,
   "metadata": {},
   "outputs": [
    {
     "data": {
      "text/html": [
       "<div>\n",
       "<style scoped>\n",
       "    .dataframe tbody tr th:only-of-type {\n",
       "        vertical-align: middle;\n",
       "    }\n",
       "\n",
       "    .dataframe tbody tr th {\n",
       "        vertical-align: top;\n",
       "    }\n",
       "\n",
       "    .dataframe thead th {\n",
       "        text-align: right;\n",
       "    }\n",
       "</style>\n",
       "<table border=\"1\" class=\"dataframe\">\n",
       "  <thead>\n",
       "    <tr style=\"text-align: right;\">\n",
       "      <th></th>\n",
       "      <th>number_of_listings</th>\n",
       "      <th>average_rating</th>\n",
       "    </tr>\n",
       "    <tr>\n",
       "      <th>host_neighbourhood</th>\n",
       "      <th></th>\n",
       "      <th></th>\n",
       "    </tr>\n",
       "  </thead>\n",
       "  <tbody>\n",
       "    <tr>\n",
       "      <th>Capitol Hill</th>\n",
       "      <td>242</td>\n",
       "      <td>94.682008</td>\n",
       "    </tr>\n",
       "    <tr>\n",
       "      <th>Columbia Heights</th>\n",
       "      <td>194</td>\n",
       "      <td>93.129534</td>\n",
       "    </tr>\n",
       "    <tr>\n",
       "      <th>Dupont Circle</th>\n",
       "      <td>167</td>\n",
       "      <td>93.329268</td>\n",
       "    </tr>\n",
       "    <tr>\n",
       "      <th>Logan Circle</th>\n",
       "      <td>137</td>\n",
       "      <td>94.451852</td>\n",
       "    </tr>\n",
       "    <tr>\n",
       "      <th>U Street Corridor</th>\n",
       "      <td>124</td>\n",
       "      <td>94.853659</td>\n",
       "    </tr>\n",
       "    <tr>\n",
       "      <th>Adams Morgan</th>\n",
       "      <td>108</td>\n",
       "      <td>93.867925</td>\n",
       "    </tr>\n",
       "    <tr>\n",
       "      <th>Near Northeast/H Street Corridor</th>\n",
       "      <td>100</td>\n",
       "      <td>95.948980</td>\n",
       "    </tr>\n",
       "    <tr>\n",
       "      <th>Shaw</th>\n",
       "      <td>91</td>\n",
       "      <td>93.911111</td>\n",
       "    </tr>\n",
       "    <tr>\n",
       "      <th>Petworth</th>\n",
       "      <td>79</td>\n",
       "      <td>91.858974</td>\n",
       "    </tr>\n",
       "    <tr>\n",
       "      <th>Mount Pleasant</th>\n",
       "      <td>70</td>\n",
       "      <td>92.857143</td>\n",
       "    </tr>\n",
       "  </tbody>\n",
       "</table>\n",
       "</div>"
      ],
      "text/plain": [
       "                                  number_of_listings  average_rating\n",
       "host_neighbourhood                                                  \n",
       "Capitol Hill                                     242       94.682008\n",
       "Columbia Heights                                 194       93.129534\n",
       "Dupont Circle                                    167       93.329268\n",
       "Logan Circle                                     137       94.451852\n",
       "U Street Corridor                                124       94.853659\n",
       "Adams Morgan                                     108       93.867925\n",
       "Near Northeast/H Street Corridor                 100       95.948980\n",
       "Shaw                                              91       93.911111\n",
       "Petworth                                          79       91.858974\n",
       "Mount Pleasant                                    70       92.857143"
      ]
     },
     "execution_count": 32,
     "metadata": {},
     "output_type": "execute_result"
    }
   ],
   "source": [
    "groupby_neighborhood_rating = airbnb.groupby('host_neighbourhood').agg({'id':'count', 'review_scores_rating': 'mean'}). \\\n",
    "                            rename(columns = {'id': 'number_of_listings', 'review_scores_rating': 'average_rating'}). \\\n",
    "                               sort_values(by=[ 'number_of_listings','average_rating'], ascending = False)\n",
    "\n",
    "\n",
    "groupby_neighborhood_rating.head(10)"
   ]
  },
  {
   "cell_type": "code",
   "execution_count": 33,
   "metadata": {},
   "outputs": [
    {
     "data": {
      "image/png": "[encoded data removed]",
      "text/plain": [
       "<Figure size 720x360 with 1 Axes>"
      ]
     },
     "metadata": {},
     "output_type": "display_data"
    }
   ],
   "source": [
    "airbnb.host_neighbourhood.value_counts()[:10].sort_values(ascending=True).plot(kind='barh')\n",
    "plt.xticks(rotation=0);"
   ]
  },
  {
   "cell_type": "code",
   "execution_count": 34,
   "metadata": {},
   "outputs": [
    {
     "data": {
      "image/png": "[encoded data removed]",
      "text/plain": [
       "<Figure size 720x360 with 1 Axes>"
      ]
     },
     "metadata": {},
     "output_type": "display_data"
    }
   ],
   "source": [
    "groupby_neighborhood_rating[:5].sort_values(by='host_neighbourhood', ascending=False)\\\n",
    ".plot(kind='barh');"
   ]
  },
  {
   "cell_type": "code",
   "execution_count": 35,
   "metadata": {},
   "outputs": [
    {
     "data": {
      "image/png": "[encoded data removed]",
      "text/plain": [
       "<Figure size 1224x720 with 1 Axes>"
      ]
     },
     "metadata": {},
     "output_type": "display_data"
    }
   ],
   "source": [
    "fig, ax = plt.subplots(figsize = (17,10))\n",
    "\n",
    "plot = sns.barplot(x = 'number_of_listings', y = 'average_rating',\n",
    "                    data = groupby_neighborhood_rating.head(10),\n",
    "                        palette = 'PuBuGn', ax = ax)\n",
    "\n",
    "plot.set_title('Review Scores Rating per Propperty Type \\n', color = 'Maroon', fontsize = 20)\n",
    "axes = plt.gca()\n",
    "axes.set_ylim([90,100])\n",
    "\n",
    "plot.set_xlabel('\\n Review Scores Rating', color = 'black', fontsize = 17)\n",
    "\n",
    "plot.set_ylabel('Propperty Type  \\n', color = 'black', fontsize = 17);\n"
   ]
  },
  {
   "cell_type": "markdown",
   "metadata": {},
   "source": [
    "\n",
    "### RECOMMENDATION"
   ]
  },
  {
   "cell_type": "markdown",
   "metadata": {},
   "source": [
    "Investor should invest in Near Northeast/H Street Corridor. "
   ]
  },
  {
   "cell_type": "code",
   "execution_count": null,
   "metadata": {},
   "outputs": [],
   "source": []
  },
  {
   "cell_type": "markdown",
   "metadata": {},
   "source": [
    "---\n",
    "#    <font color='red'> Mission Accomplished</font> \n"
   ]
  },
  {
   "cell_type": "markdown",
   "metadata": {},
   "source": [
    "---\n",
    "---\n",
    "# <font color='green'> This was made by Sultan Alsaedi </font> \n",
    "# <font color='blue'> Data Scientist </font> \n"
   ]
  },
  {
   "cell_type": "markdown",
   "metadata": {},
   "source": [
    "## Contact me\n",
    "### Email: trexercrypto@gmail.com\n",
    "### Slack: @stan\n",
    "### GitHub: https://github.com/stanxd/\n",
    "---\n",
    "---"
   ]
  },
  {
   "cell_type": "code",
   "execution_count": null,
   "metadata": {},
   "outputs": [],
   "source": []
  }
 ],
 "metadata": {
  "kernelspec": {
   "display_name": "Python 3",
   "language": "python",
   "name": "python3"
  },
  "language_info": {
   "codemirror_mode": {
    "name": "ipython",
    "version": 3
   },
   "file_extension": ".py",
   "mimetype": "text/x-python",
   "name": "python",
   "nbconvert_exporter": "python",
   "pygments_lexer": "ipython3",
   "version": "3.7.3"
  }
 },
 "nbformat": 4,
 "nbformat_minor": 2
}
