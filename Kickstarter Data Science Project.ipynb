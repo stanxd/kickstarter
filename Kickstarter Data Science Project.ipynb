{
 "cells": [
  {
   "cell_type": "markdown",
   "metadata": {},
   "source": [
    "### Kickstarter Project.\n",
    "Kickstarter, the crowdfunding platform, is thinking about providing a consulting service to project founders to help its customers create more successful crowdfunding campaigns. You’ve been asked to do some initial analysis. \n",
    "#### By\n",
    "### Sultan Alsaedi\n"
   ]
  },
  {
   "cell_type": "markdown",
   "metadata": {},
   "source": [
    "----\n",
    "### Importing the data"
   ]
  },
  {
   "cell_type": "code",
   "execution_count": 1,
   "metadata": {},
   "outputs": [
    {
     "data": {
      "application/javascript": [
       "IPython.notebook.set_autosave_interval(60000)"
      ]
     },
     "metadata": {},
     "output_type": "display_data"
    },
    {
     "name": "stdout",
     "output_type": "stream",
     "text": [
      "Autosaving every 60 seconds\n",
      "Populating the interactive namespace from numpy and matplotlib\n"
     ]
    }
   ],
   "source": [
    "# Set autosave to 1 minutes\n",
    "%autosave 60\n",
    "# ipython magic\n",
    "%pylab inline\n",
    "# Import modules\n",
    "import os #OS is a modul in python, allowing to interface with underlying operation systems\n",
    "import datetime as dt\n",
    "from scipy import stats #Python library used for scientific computing and technical computing.\n",
    "import numpy as np\n",
    "import pandas as pd\n",
    "import seaborn as sns #statistical data visualization\n",
    "sns.set(style=\"whitegrid\", color_codes=True)\n",
    "import matplotlib as mpl\n",
    "import matplotlib.pyplot as plt\n",
    "matplotlib.style.use('seaborn-paper')\n"
   ]
  },
  {
   "cell_type": "code",
   "execution_count": 5,
   "metadata": {},
   "outputs": [],
   "source": [
    "##time\n",
    "#The following code reads all the Kickstarter data into Pandas DataFrames\n",
    "# empty data will be filled in as NaN\n",
    "#kick = pd.read_csv('kickstarterscrape_dataset.csv')\n",
    "kick = pd.read_csv('kickstarterscrape_dataset.csv', engine='python')\n",
    "\n",
    "kick.rename(columns={'project id': 'project_id', 'funded percentage': 'funded_percentage', 'funded date': 'funded_date', 'reward levels': 'reward_levels'}, inplace=True)\n",
    "# Set index as 'project_id'\n",
    "kick.set_index(['project_id'], inplace=True)"
   ]
  },
  {
   "cell_type": "code",
   "execution_count": 6,
   "metadata": {},
   "outputs": [
    {
     "name": "stdout",
     "output_type": "stream",
     "text": [
      "Rows 45957\n",
      "Columns: 16\n",
      "12.92 MB\n"
     ]
    }
   ],
   "source": [
    "# Return shape and size to see how much data is being worked with\n",
    "rows , columns = kick.shape\n",
    "print (\"Rows\", rows)\n",
    "print ('Columns:', columns)\n",
    "print (round(float(os.stat('kickstarterscrape_dataset.csv').st_size / 1000000.0), 2), 'MB')"
   ]
  },
  {
   "cell_type": "markdown",
   "metadata": {},
   "source": [
    "The dataset is 45,957 rows long, 16 columns wide, and 12.9 MB."
   ]
  },
  {
   "cell_type": "code",
   "execution_count": 7,
   "metadata": {},
   "outputs": [
    {
     "name": "stdout",
     "output_type": "stream",
     "text": [
      "<class 'pandas.core.frame.DataFrame'>\n",
      "Int64Index: 45957 entries, 39409 to 2147460119\n",
      "Data columns (total 16 columns):\n",
      "name                 45957 non-null object\n",
      "url                  45957 non-null object\n",
      "category             45957 non-null object\n",
      "subcategory          45957 non-null object\n",
      "location             44635 non-null object\n",
      "status               45957 non-null object\n",
      "goal                 45957 non-null float64\n",
      "pledged              45945 non-null float64\n",
      "funded_percentage    45957 non-null float64\n",
      "backers              45957 non-null int64\n",
      "funded_date          45957 non-null object\n",
      "levels               45957 non-null int64\n",
      "reward_levels        45898 non-null object\n",
      "updates              45957 non-null int64\n",
      "comments             45957 non-null int64\n",
      "duration             45957 non-null float64\n",
      "dtypes: float64(4), int64(4), object(8)\n",
      "memory usage: 6.0+ MB\n"
     ]
    }
   ],
   "source": [
    "# Show counts and data types for all columns\n",
    "kick.info()"
   ]
  },
  {
   "cell_type": "code",
   "execution_count": 8,
   "metadata": {},
   "outputs": [
    {
     "name": "stdout",
     "output_type": "stream",
     "text": [
      "Missing data in each Kickstarter dataframe column:\n",
      "location : 1322 missing values is 2.877\n",
      "pledged : 12 missing values is 0.026\n",
      "reward_levels : 59 missing values is 0.128\n"
     ]
    }
   ],
   "source": [
    "# Now i'm gonna use if statement to find how many missing values and percentage missing in each column\n",
    "print ('Missing data in each Kickstarter dataframe column:')\n",
    "for c in kick.columns:\n",
    "    missing_data = len(kick) - kick[c].count()\n",
    "    if (missing_data > 0 or missing_data =='NaN'):\n",
    "        print (c, ':', missing_data, 'missing values is', str(round(float(missing_data / float(len(kick))) * \n",
    "                                                            100, 3))), '% of total'"
   ]
  },
  {
   "cell_type": "code",
   "execution_count": 9,
   "metadata": {},
   "outputs": [
    {
     "data": {
      "text/html": [
       "<div>\n",
       "<style scoped>\n",
       "    .dataframe tbody tr th:only-of-type {\n",
       "        vertical-align: middle;\n",
       "    }\n",
       "\n",
       "    .dataframe tbody tr th {\n",
       "        vertical-align: top;\n",
       "    }\n",
       "\n",
       "    .dataframe thead th {\n",
       "        text-align: right;\n",
       "    }\n",
       "</style>\n",
       "<table border=\"1\" class=\"dataframe\">\n",
       "  <thead>\n",
       "    <tr style=\"text-align: right;\">\n",
       "      <th></th>\n",
       "      <th>name</th>\n",
       "      <th>url</th>\n",
       "      <th>category</th>\n",
       "      <th>subcategory</th>\n",
       "      <th>location</th>\n",
       "      <th>status</th>\n",
       "      <th>goal</th>\n",
       "      <th>pledged</th>\n",
       "      <th>funded_percentage</th>\n",
       "      <th>backers</th>\n",
       "      <th>funded_date</th>\n",
       "      <th>levels</th>\n",
       "      <th>reward_levels</th>\n",
       "      <th>updates</th>\n",
       "      <th>comments</th>\n",
       "      <th>duration</th>\n",
       "    </tr>\n",
       "    <tr>\n",
       "      <th>project_id</th>\n",
       "      <th></th>\n",
       "      <th></th>\n",
       "      <th></th>\n",
       "      <th></th>\n",
       "      <th></th>\n",
       "      <th></th>\n",
       "      <th></th>\n",
       "      <th></th>\n",
       "      <th></th>\n",
       "      <th></th>\n",
       "      <th></th>\n",
       "      <th></th>\n",
       "      <th></th>\n",
       "      <th></th>\n",
       "      <th></th>\n",
       "      <th></th>\n",
       "    </tr>\n",
       "  </thead>\n",
       "  <tbody>\n",
       "    <tr>\n",
       "      <th>39409</th>\n",
       "      <td>WHILE THE TREES SLEEP</td>\n",
       "      <td>http://www.kickstarter.com/projects/emiliesaba...</td>\n",
       "      <td>Film &amp; Video</td>\n",
       "      <td>Short Film</td>\n",
       "      <td>Columbia, MO</td>\n",
       "      <td>successful</td>\n",
       "      <td>10500.0</td>\n",
       "      <td>11545.0</td>\n",
       "      <td>1.099524</td>\n",
       "      <td>66</td>\n",
       "      <td>Fri, 19 Aug 2011 19:28:17 -0000</td>\n",
       "      <td>7</td>\n",
       "      <td>$25,$50,$100,$250,$500,$1,000,$2,500</td>\n",
       "      <td>10</td>\n",
       "      <td>2</td>\n",
       "      <td>30.00</td>\n",
       "    </tr>\n",
       "    <tr>\n",
       "      <th>126581</th>\n",
       "      <td>Educational Online Trading Card Game</td>\n",
       "      <td>http://www.kickstarter.com/projects/972789543/...</td>\n",
       "      <td>Games</td>\n",
       "      <td>Board &amp; Card Games</td>\n",
       "      <td>Maplewood, NJ</td>\n",
       "      <td>failed</td>\n",
       "      <td>4000.0</td>\n",
       "      <td>20.0</td>\n",
       "      <td>0.005000</td>\n",
       "      <td>2</td>\n",
       "      <td>Mon, 02 Aug 2010 03:59:00 -0000</td>\n",
       "      <td>5</td>\n",
       "      <td>$1,$5,$10,$25,$50</td>\n",
       "      <td>6</td>\n",
       "      <td>0</td>\n",
       "      <td>47.18</td>\n",
       "    </tr>\n",
       "    <tr>\n",
       "      <th>138119</th>\n",
       "      <td>STRUM</td>\n",
       "      <td>http://www.kickstarter.com/projects/185476022/...</td>\n",
       "      <td>Film &amp; Video</td>\n",
       "      <td>Animation</td>\n",
       "      <td>Los Angeles, CA</td>\n",
       "      <td>live</td>\n",
       "      <td>20000.0</td>\n",
       "      <td>56.0</td>\n",
       "      <td>0.002800</td>\n",
       "      <td>3</td>\n",
       "      <td>Fri, 08 Jun 2012 00:00:31 -0000</td>\n",
       "      <td>10</td>\n",
       "      <td>$1,$10,$25,$40,$50,$100,$250,$1,000,$1,337,$9,001</td>\n",
       "      <td>1</td>\n",
       "      <td>0</td>\n",
       "      <td>28.00</td>\n",
       "    </tr>\n",
       "    <tr>\n",
       "      <th>237090</th>\n",
       "      <td>GETTING OVER - One son's search to finally kno...</td>\n",
       "      <td>http://www.kickstarter.com/projects/charnick/g...</td>\n",
       "      <td>Film &amp; Video</td>\n",
       "      <td>Documentary</td>\n",
       "      <td>Los Angeles, CA</td>\n",
       "      <td>successful</td>\n",
       "      <td>6000.0</td>\n",
       "      <td>6535.0</td>\n",
       "      <td>1.089167</td>\n",
       "      <td>100</td>\n",
       "      <td>Sun, 08 Apr 2012 02:14:00 -0000</td>\n",
       "      <td>13</td>\n",
       "      <td>$1,$10,$25,$30,$50,$75,$85,$100,$110,$250,$500...</td>\n",
       "      <td>4</td>\n",
       "      <td>0</td>\n",
       "      <td>32.22</td>\n",
       "    </tr>\n",
       "    <tr>\n",
       "      <th>246101</th>\n",
       "      <td>The Launch of FlyeGrlRoyalty &amp;quot;The New Nam...</td>\n",
       "      <td>http://www.kickstarter.com/projects/flyegrlroy...</td>\n",
       "      <td>Fashion</td>\n",
       "      <td>Fashion</td>\n",
       "      <td>Novi, MI</td>\n",
       "      <td>failed</td>\n",
       "      <td>3500.0</td>\n",
       "      <td>0.0</td>\n",
       "      <td>0.000000</td>\n",
       "      <td>0</td>\n",
       "      <td>Wed, 01 Jun 2011 15:25:39 -0000</td>\n",
       "      <td>6</td>\n",
       "      <td>$10,$25,$50,$100,$150,$250</td>\n",
       "      <td>2</td>\n",
       "      <td>0</td>\n",
       "      <td>30.00</td>\n",
       "    </tr>\n",
       "  </tbody>\n",
       "</table>\n",
       "</div>"
      ],
      "text/plain": [
       "                                                         name  \\\n",
       "project_id                                                      \n",
       "39409                                   WHILE THE TREES SLEEP   \n",
       "126581                   Educational Online Trading Card Game   \n",
       "138119                                                  STRUM   \n",
       "237090      GETTING OVER - One son's search to finally kno...   \n",
       "246101      The Launch of FlyeGrlRoyalty &quot;The New Nam...   \n",
       "\n",
       "                                                          url      category  \\\n",
       "project_id                                                                    \n",
       "39409       http://www.kickstarter.com/projects/emiliesaba...  Film & Video   \n",
       "126581      http://www.kickstarter.com/projects/972789543/...         Games   \n",
       "138119      http://www.kickstarter.com/projects/185476022/...  Film & Video   \n",
       "237090      http://www.kickstarter.com/projects/charnick/g...  Film & Video   \n",
       "246101      http://www.kickstarter.com/projects/flyegrlroy...       Fashion   \n",
       "\n",
       "                   subcategory         location      status     goal  pledged  \\\n",
       "project_id                                                                      \n",
       "39409               Short Film     Columbia, MO  successful  10500.0  11545.0   \n",
       "126581      Board & Card Games    Maplewood, NJ      failed   4000.0     20.0   \n",
       "138119               Animation  Los Angeles, CA        live  20000.0     56.0   \n",
       "237090             Documentary  Los Angeles, CA  successful   6000.0   6535.0   \n",
       "246101                 Fashion         Novi, MI      failed   3500.0      0.0   \n",
       "\n",
       "            funded_percentage  backers                      funded_date  \\\n",
       "project_id                                                                \n",
       "39409                1.099524       66  Fri, 19 Aug 2011 19:28:17 -0000   \n",
       "126581               0.005000        2  Mon, 02 Aug 2010 03:59:00 -0000   \n",
       "138119               0.002800        3  Fri, 08 Jun 2012 00:00:31 -0000   \n",
       "237090               1.089167      100  Sun, 08 Apr 2012 02:14:00 -0000   \n",
       "246101               0.000000        0  Wed, 01 Jun 2011 15:25:39 -0000   \n",
       "\n",
       "            levels                                      reward_levels  \\\n",
       "project_id                                                              \n",
       "39409            7               $25,$50,$100,$250,$500,$1,000,$2,500   \n",
       "126581           5                                  $1,$5,$10,$25,$50   \n",
       "138119          10  $1,$10,$25,$40,$50,$100,$250,$1,000,$1,337,$9,001   \n",
       "237090          13  $1,$10,$25,$30,$50,$75,$85,$100,$110,$250,$500...   \n",
       "246101           6                         $10,$25,$50,$100,$150,$250   \n",
       "\n",
       "            updates  comments  duration  \n",
       "project_id                               \n",
       "39409            10         2     30.00  \n",
       "126581            6         0     47.18  \n",
       "138119            1         0     28.00  \n",
       "237090            4         0     32.22  \n",
       "246101            2         0     30.00  "
      ]
     },
     "execution_count": 9,
     "metadata": {},
     "output_type": "execute_result"
    }
   ],
   "source": [
    "# Inspect the data with .head, Shows only 5 sections\n",
    "kick.head()"
   ]
  },
  {
   "cell_type": "markdown",
   "metadata": {},
   "source": [
    "The .head function gives us a preview of the data without having to load the entire dataset, Just put a number in parentheses. It shows all the 'columns' of data for each project 'row'.  One thing I notice is that the 'status' column is a string of either 'successful, failed, live'."
   ]
  },
  {
   "cell_type": "code",
   "execution_count": 10,
   "metadata": {},
   "outputs": [
    {
     "data": {
      "text/html": [
       "<div>\n",
       "<style scoped>\n",
       "    .dataframe tbody tr th:only-of-type {\n",
       "        vertical-align: middle;\n",
       "    }\n",
       "\n",
       "    .dataframe tbody tr th {\n",
       "        vertical-align: top;\n",
       "    }\n",
       "\n",
       "    .dataframe thead th {\n",
       "        text-align: right;\n",
       "    }\n",
       "</style>\n",
       "<table border=\"1\" class=\"dataframe\">\n",
       "  <thead>\n",
       "    <tr style=\"text-align: right;\">\n",
       "      <th></th>\n",
       "      <th>goal</th>\n",
       "      <th>pledged</th>\n",
       "      <th>funded_percentage</th>\n",
       "      <th>backers</th>\n",
       "      <th>levels</th>\n",
       "      <th>updates</th>\n",
       "      <th>comments</th>\n",
       "      <th>duration</th>\n",
       "    </tr>\n",
       "  </thead>\n",
       "  <tbody>\n",
       "    <tr>\n",
       "      <th>count</th>\n",
       "      <td>4.595700e+04</td>\n",
       "      <td>4.594500e+04</td>\n",
       "      <td>45957.000000</td>\n",
       "      <td>45957.000000</td>\n",
       "      <td>45957.000000</td>\n",
       "      <td>45957.00000</td>\n",
       "      <td>45957.000000</td>\n",
       "      <td>45957.000000</td>\n",
       "    </tr>\n",
       "    <tr>\n",
       "      <th>mean</th>\n",
       "      <td>1.194271e+04</td>\n",
       "      <td>4.980750e+03</td>\n",
       "      <td>1.850129</td>\n",
       "      <td>69.973192</td>\n",
       "      <td>8.004939</td>\n",
       "      <td>4.08508</td>\n",
       "      <td>8.379529</td>\n",
       "      <td>39.995547</td>\n",
       "    </tr>\n",
       "    <tr>\n",
       "      <th>std</th>\n",
       "      <td>1.887583e+05</td>\n",
       "      <td>5.674162e+04</td>\n",
       "      <td>88.492706</td>\n",
       "      <td>688.628479</td>\n",
       "      <td>4.233907</td>\n",
       "      <td>6.43922</td>\n",
       "      <td>174.015737</td>\n",
       "      <td>17.414458</td>\n",
       "    </tr>\n",
       "    <tr>\n",
       "      <th>min</th>\n",
       "      <td>1.000000e-02</td>\n",
       "      <td>0.000000e+00</td>\n",
       "      <td>0.000000</td>\n",
       "      <td>0.000000</td>\n",
       "      <td>0.000000</td>\n",
       "      <td>0.00000</td>\n",
       "      <td>0.000000</td>\n",
       "      <td>1.000000</td>\n",
       "    </tr>\n",
       "    <tr>\n",
       "      <th>25%</th>\n",
       "      <td>1.800000e+03</td>\n",
       "      <td>1.960000e+02</td>\n",
       "      <td>0.044000</td>\n",
       "      <td>5.000000</td>\n",
       "      <td>5.000000</td>\n",
       "      <td>0.00000</td>\n",
       "      <td>0.000000</td>\n",
       "      <td>30.000000</td>\n",
       "    </tr>\n",
       "    <tr>\n",
       "      <th>50%</th>\n",
       "      <td>4.000000e+03</td>\n",
       "      <td>1.310000e+03</td>\n",
       "      <td>1.000000</td>\n",
       "      <td>23.000000</td>\n",
       "      <td>7.000000</td>\n",
       "      <td>2.00000</td>\n",
       "      <td>0.000000</td>\n",
       "      <td>32.000000</td>\n",
       "    </tr>\n",
       "    <tr>\n",
       "      <th>75%</th>\n",
       "      <td>9.862000e+03</td>\n",
       "      <td>4.165000e+03</td>\n",
       "      <td>1.115640</td>\n",
       "      <td>59.000000</td>\n",
       "      <td>10.000000</td>\n",
       "      <td>6.00000</td>\n",
       "      <td>3.000000</td>\n",
       "      <td>48.390000</td>\n",
       "    </tr>\n",
       "    <tr>\n",
       "      <th>max</th>\n",
       "      <td>2.147484e+07</td>\n",
       "      <td>1.026684e+07</td>\n",
       "      <td>15066.000000</td>\n",
       "      <td>87142.000000</td>\n",
       "      <td>80.000000</td>\n",
       "      <td>149.00000</td>\n",
       "      <td>19311.000000</td>\n",
       "      <td>91.960000</td>\n",
       "    </tr>\n",
       "  </tbody>\n",
       "</table>\n",
       "</div>"
      ],
      "text/plain": [
       "               goal       pledged  funded_percentage       backers  \\\n",
       "count  4.595700e+04  4.594500e+04       45957.000000  45957.000000   \n",
       "mean   1.194271e+04  4.980750e+03           1.850129     69.973192   \n",
       "std    1.887583e+05  5.674162e+04          88.492706    688.628479   \n",
       "min    1.000000e-02  0.000000e+00           0.000000      0.000000   \n",
       "25%    1.800000e+03  1.960000e+02           0.044000      5.000000   \n",
       "50%    4.000000e+03  1.310000e+03           1.000000     23.000000   \n",
       "75%    9.862000e+03  4.165000e+03           1.115640     59.000000   \n",
       "max    2.147484e+07  1.026684e+07       15066.000000  87142.000000   \n",
       "\n",
       "             levels      updates      comments      duration  \n",
       "count  45957.000000  45957.00000  45957.000000  45957.000000  \n",
       "mean       8.004939      4.08508      8.379529     39.995547  \n",
       "std        4.233907      6.43922    174.015737     17.414458  \n",
       "min        0.000000      0.00000      0.000000      1.000000  \n",
       "25%        5.000000      0.00000      0.000000     30.000000  \n",
       "50%        7.000000      2.00000      0.000000     32.000000  \n",
       "75%       10.000000      6.00000      3.000000     48.390000  \n",
       "max       80.000000    149.00000  19311.000000     91.960000  "
      ]
     },
     "execution_count": 10,
     "metadata": {},
     "output_type": "execute_result"
    }
   ],
   "source": [
    "# Get some quick and detailed statistics with pd.describe\n",
    "kick.describe()"
   ]
  },
  {
   "cell_type": "markdown",
   "metadata": {},
   "source": [
    "## MISSION 1: Foundational Data Analysis"
   ]
  },
  {
   "cell_type": "markdown",
   "metadata": {},
   "source": [
    "####  QUESTION A: What is the mean (total) pledge that projects get? (not per backer)"
   ]
  },
  {
   "cell_type": "code",
   "execution_count": 11,
   "metadata": {},
   "outputs": [
    {
     "name": "stdout",
     "output_type": "stream",
     "text": [
      "$ 4980.75\n"
     ]
    }
   ],
   "source": [
    "# Find mean of 'pledged' column\n",
    "print (\"$\", round(kick.pledged.mean(), 2 ))"
   ]
  },
  {
   "cell_type": "markdown",
   "metadata": {},
   "source": [
    "#### The mean (total) pledge that projects receive is $4980.75.\n",
    "\n",
    "##### The answer for the first question is: $4980"
   ]
  },
  {
   "cell_type": "markdown",
   "metadata": {},
   "source": [
    "#### QUESTION B: Create a historgram that shows the distribution for number of backers. What is the skew of the distribution?"
   ]
  },
  {
   "cell_type": "code",
   "execution_count": 12,
   "metadata": {},
   "outputs": [
    {
     "data": {
      "image/png": "[encoded data removed]",
      "text/plain": [
       "<Figure size 432x288 with 1 Axes>"
      ]
     },
     "metadata": {
      "needs_background": "light"
     },
     "output_type": "display_data"
    }
   ],
   "source": [
    "# Histogram of 'backers' column\n",
    "plt.hist(kick['backers'],color='g')\n",
    "plt.xlabel('Backers')\n",
    "plt.ylabel('Frequency')\n",
    "plt.title('Histogram of Project Backers (outliers included)')\n",
    "plt.show()"
   ]
  },
  {
   "cell_type": "code",
   "execution_count": 13,
   "metadata": {},
   "outputs": [
    {
     "data": {
      "image/png": "[encoded data removed]",
      "text/plain": [
       "<Figure size 432x288 with 1 Axes>"
      ]
     },
     "metadata": {
      "needs_background": "light"
     },
     "output_type": "display_data"
    }
   ],
   "source": [
    "#Same as Histogram but here with seaborn for Distribution plot of 'backers' column\n",
    "sns.distplot(kick['backers'])\n",
    "plt.xlabel('Backers')\n",
    "plt.ylabel('Frequency')\n",
    "plt.title('Frequency of Project Backers (outliers included)')\n",
    "plt.show()"
   ]
  },
  {
   "cell_type": "markdown",
   "metadata": {},
   "source": [
    "The above plots are a histogram and a distribution plot of kickstarter backers. It's not very clear. There is **huge** number of projects that receive almost no backers.  This would indicate that distribution of kickstarter backers is strongly positive (right-skewed & left leaning). Let's look more into this."
   ]
  },
  {
   "cell_type": "code",
   "execution_count": 14,
   "metadata": {},
   "outputs": [
    {
     "data": {
      "image/png": "[encoded data removed]",
      "text/plain": [
       "<Figure size 432x288 with 1 Axes>"
      ]
     },
     "metadata": {
      "needs_background": "light"
     },
     "output_type": "display_data"
    }
   ],
   "source": [
    "# Boxplot of'backers' column\n",
    "sns.boxplot(x=kick['backers'])\n",
    "plt.xlabel('Backers')\n",
    "plt.title('Boxplot of Project Backers (outliers included)')\n",
    "plt.show()\n",
    "#this boxplot shows the skew is hard to see and read, so let's describe it"
   ]
  },
  {
   "cell_type": "markdown",
   "metadata": {},
   "source": [
    "The boxplot above further proves this skewness. The box (quartiles) is almost not even visible. It appears as a black smudge to the far left of the chart. The extreme outliers are making this data extremely hard to see. Let's look at the numbers and see just how bad the skew is."
   ]
  },
  {
   "cell_type": "code",
   "execution_count": 15,
   "metadata": {},
   "outputs": [
    {
     "data": {
      "text/plain": [
       "count    45957.000000\n",
       "mean        69.973192\n",
       "std        688.628479\n",
       "min          0.000000\n",
       "25%          5.000000\n",
       "50%         23.000000\n",
       "75%         59.000000\n",
       "max      87142.000000\n",
       "Name: backers, dtype: float64"
      ]
     },
     "execution_count": 15,
     "metadata": {},
     "output_type": "execute_result"
    }
   ],
   "source": [
    "# Get quick and dirty starts for 'backers'\n",
    "kick['backers'].describe()"
   ]
  },
  {
   "cell_type": "markdown",
   "metadata": {},
   "source": [
    "The quick and dirty statistics summary shows some insight as to why.  Look at the quartiles. THe lower 25% is 5, the median is 23, the 75% is 59 and the max is a whopping 87142! A standard deviation of 688 show us that the uniform is far from uniform. **Let's quickly clean up the outliers so we can see the distribution more clearly.**"
   ]
  },
  {
   "cell_type": "code",
   "execution_count": 16,
   "metadata": {},
   "outputs": [
    {
     "data": {
      "text/plain": [
       "count    24979.000000\n",
       "mean        46.829016\n",
       "std         29.133568\n",
       "min         12.000000\n",
       "25%         23.000000\n",
       "50%         39.000000\n",
       "75%         65.000000\n",
       "max        128.000000\n",
       "Name: backers, dtype: float64"
      ]
     },
     "execution_count": 16,
     "metadata": {},
     "output_type": "execute_result"
    }
   ],
   "source": [
    "#I'm gonna filter the original kickstarter dataframe to remove lots of outliers\n",
    "filtered = kick[((kick.backers - kick.backers.mean()) / kick.backers.std()).abs() < .085]\n",
    "filtered['backers'].describe()\n",
    "#Filter creates a list of elements for which a function returns true."
   ]
  },
  {
   "cell_type": "markdown",
   "metadata": {},
   "source": [
    "The above summary statistics show that the data has been significantly filtered from statistical outliers. Let's check a box plot next."
   ]
  },
  {
   "cell_type": "code",
   "execution_count": 17,
   "metadata": {},
   "outputs": [
    {
     "data": {
      "image/png": "[encoded data removed]",
      "text/plain": [
       "<Figure size 432x288 with 1 Axes>"
      ]
     },
     "metadata": {
      "needs_background": "light"
     },
     "output_type": "display_data"
    }
   ],
   "source": [
    "#We wll check the boxplot now\n",
    "#I created boxplot to check the shape of the distribution\n",
    "sns.boxplot(x=filtered['backers'])\n",
    "plt.xlabel('Backers')\n",
    "plt.title('Boxplot of Project Backers (outliers excluded)')\n",
    "plt.show()"
   ]
  },
  {
   "cell_type": "markdown",
   "metadata": {},
   "source": [
    "The box plot above shows the extent of the filtering."
   ]
  },
  {
   "cell_type": "code",
   "execution_count": 18,
   "metadata": {},
   "outputs": [
    {
     "data": {
      "image/png": "[encoded data removed]",
      "text/plain": [
       "<Figure size 432x288 with 1 Axes>"
      ]
     },
     "metadata": {
      "needs_background": "light"
     },
     "output_type": "display_data"
    }
   ],
   "source": [
    "# Histogram of filtered 'backers' column\n",
    "plt.hist(filtered['backers'])\n",
    "plt.xlabel('Backers')\n",
    "plt.ylabel('Frequency')\n",
    "plt.title('Histogram of Project Backers (outliers removed)')\n",
    "plt.show()"
   ]
  },
  {
   "cell_type": "markdown",
   "metadata": {},
   "source": [
    "Will do again with distribution"
   ]
  },
  {
   "cell_type": "code",
   "execution_count": 19,
   "metadata": {},
   "outputs": [
    {
     "data": {
      "image/png": "[encoded data removed]",
      "text/plain": [
       "<Figure size 432x288 with 1 Axes>"
      ]
     },
     "metadata": {
      "needs_background": "light"
     },
     "output_type": "display_data"
    }
   ],
   "source": [
    "#seaborn distribution plot of filtered 'backers' column\n",
    "sns.distplot(filtered['backers'],kde=False)\n",
    "plt.xlabel('Backers')\n",
    "plt.ylabel('Frequency')\n",
    "plt.title('Distribution of Project Backers (outliers removed)')\n",
    "plt.show()"
   ]
  },
  {
   "cell_type": "markdown",
   "metadata": {},
   "source": [
    "The histogram above now shows the strongly positive (right-skewed & left leaning) distribution in a way that's easier to understand."
   ]
  },
  {
   "cell_type": "code",
   "execution_count": 20,
   "metadata": {},
   "outputs": [
    {
     "data": {
      "image/png": "[encoded data removed]",
      "text/plain": [
       "<Figure size 432x288 with 1 Axes>"
      ]
     },
     "metadata": {
      "needs_background": "light"
     },
     "output_type": "display_data"
    }
   ],
   "source": [
    "#Seaborn Countplot\n",
    "sns.countplot(x='backers', data=kick)\n",
    "plt.xlabel('Project')\n",
    "plt.ylabel('Backers')\n",
    "plt.title('Number of Backers (all projects)')\n",
    "plt.show()\n",
    "#in this countplot i wanted to see the number of particiption in projects, \n",
    "#as we can see few campaigns got massive amout of backer and the majority got hammer"
   ]
  },
  {
   "cell_type": "markdown",
   "metadata": {},
   "source": [
    "Although not a histogram; the countplot above also shows that very few kickstarter projects get massive amount of backers while the vast majorty receive very little, if any, backers."
   ]
  },
  {
   "cell_type": "markdown",
   "metadata": {},
   "source": [
    "### QUESTION C.A: Is the ‘duration’ variable normally distributed"
   ]
  },
  {
   "cell_type": "code",
   "execution_count": 21,
   "metadata": {},
   "outputs": [
    {
     "data": {
      "text/plain": [
       "count    45957.000000\n",
       "mean        39.995547\n",
       "std         17.414458\n",
       "min          1.000000\n",
       "25%         30.000000\n",
       "50%         32.000000\n",
       "75%         48.390000\n",
       "max         91.960000\n",
       "Name: duration, dtype: float64"
      ]
     },
     "execution_count": 21,
     "metadata": {},
     "output_type": "execute_result"
    }
   ],
   "source": [
    "# Describe 'duration' column\n",
    "kick['duration'].describe()"
   ]
  },
  {
   "cell_type": "code",
   "execution_count": 22,
   "metadata": {},
   "outputs": [
    {
     "data": {
      "image/png": "[encoded data removed]",
      "text/plain": [
       "<Figure size 432x288 with 1 Axes>"
      ]
     },
     "metadata": {
      "needs_background": "light"
     },
     "output_type": "display_data"
    }
   ],
   "source": [
    "# Plot histogram of 'duration' column\n",
    "plt.hist(kick['duration'])\n",
    "plt.xlabel('Duration')\n",
    "plt.ylabel('Frequecny')\n",
    "plt.title('Histogram of Project Duration')\n",
    "plt.show()"
   ]
  },
  {
   "cell_type": "code",
   "execution_count": 23,
   "metadata": {},
   "outputs": [
    {
     "data": {
      "image/png": "[encoded data removed]",
      "text/plain": [
       "<Figure size 432x288 with 1 Axes>"
      ]
     },
     "metadata": {
      "needs_background": "light"
     },
     "output_type": "display_data"
    }
   ],
   "source": [
    "#seaborn Plot distribution plot of 'duration' column\n",
    "sns.distplot(kick['duration'], kde=False) #bool function \n",
    "plt.xlabel('Duration')\n",
    "plt.ylabel('Frequecny')\n",
    "plt.title('Distribution of Project Duration')\n",
    "plt.show()"
   ]
  },
  {
   "cell_type": "code",
   "execution_count": 24,
   "metadata": {},
   "outputs": [
    {
     "data": {
      "image/png": "[encoded data removed]",
      "text/plain": [
       "<Figure size 432x288 with 1 Axes>"
      ]
     },
     "metadata": {
      "needs_background": "light"
     },
     "output_type": "display_data"
    }
   ],
   "source": [
    "# Plot kde of 'duration' column\n",
    "sns.kdeplot(kick['duration'])\n",
    "plt.xlabel('Duration')\n",
    "plt.ylabel('Frequecny')\n",
    "plt.show()"
   ]
  },
  {
   "cell_type": "markdown",
   "metadata": {},
   "source": [
    "The 'duration' column in the dataset looks to be a bit normally distributed looking at it graphically.  Let's test it mathematically:"
   ]
  },
  {
   "cell_type": "code",
   "execution_count": 25,
   "metadata": {},
   "outputs": [
    {
     "data": {
      "image/png": "[encoded data removed]",
      "text/plain": [
       "<Figure size 432x288 with 1 Axes>"
      ]
     },
     "metadata": {
      "needs_background": "light"
     },
     "output_type": "display_data"
    }
   ],
   "source": [
    "# Create normal distribution to overlay on top of actual distribution\n",
    "#i used loc to access to the rows of bool array\n",
    "duration2 = np.random.normal(loc=kick['duration'].mean(), scale=kick['duration'].std(), size=len(kick['duration']))\n",
    "# Overlay standard normal distribution over actual distribution\n",
    "pyplot.hist(kick['duration'], alpha=1, label='Actual Distribution')\n",
    "pyplot.hist(duration2, alpha=0.5, label='Random Standard Normal')\n",
    "pyplot.legend(loc='upper right')\n",
    "pyplot.title('Project Duration Distribution vs Standard Normal')\n",
    "pyplot.show()\n",
    "#this chart shows a random numbers to creat a standard distribution 'th orange' on top the actul blue chart\n",
    "#this gave me a vision of how close the real data, but still not conclusive"
   ]
  },
  {
   "cell_type": "markdown",
   "metadata": {},
   "source": [
    "The above chart shows a Gaussian random numbers generated to create a standard normal distribution overlay (green) on top of the actual data (blue). This gives us another idea of how close the actual data is to being standard normal. It's still not conclusive, so let's test it mathematically:"
   ]
  },
  {
   "cell_type": "code",
   "execution_count": 26,
   "metadata": {},
   "outputs": [
    {
     "name": "stdout",
     "output_type": "stream",
     "text": [
      "P-value = 0.0 \n",
      "Z-score = 6985.5754355009585 \n",
      "Distribution is not normal.\n"
     ]
    }
   ],
   "source": [
    "# Convert 'duration' column to NumPy array using scipy\n",
    "durationp = np.array(kick['duration'])\n",
    "# k = z-score, p = p-value\n",
    "k,p = stats.mstats.normaltest(durationp)\n",
    "#stats is a one of scipy functions to Tests whether a sample differs from a normal distribution.\n",
    "\n",
    "# If statement to print results of p-test\n",
    "if p < 0.05:\n",
    "    print ('P-value =', p, '\\nZ-score =', k, '\\nDistribution is not normal.')\n",
    "else:\n",
    "    print ('P-value =', p, '\\nZ-score =', k, '\\nDistribution is normal')"
   ]
  },
  {
   "cell_type": "markdown",
   "metadata": {},
   "source": [
    "### QUESTION C.B: If you could collect data on another attribute of these projects, what would it be and why?\n"
   ]
  },
  {
   "cell_type": "markdown",
   "metadata": {},
   "source": [
    "Although I have not done a very detailed analysis of the data, the one thing that catches my eye is a lack of some sort of way to distinguish which individual backers have contributed to each project. It would be interesting to see  what the distribution looks like of each backer to see how many projects they have backed. I imagine this information is in a separate database as it would be very combersome to try and present that information in this .csv. If that was in a separate database or csv some SQL joints could be used for analysis."
   ]
  },
  {
   "cell_type": "markdown",
   "metadata": {},
   "source": [
    "## MISSION 2:  Qualitative Analysis\n"
   ]
  },
  {
   "cell_type": "markdown",
   "metadata": {},
   "source": [
    "Create a presentation using Google Slides (max. 5 slides) using the data above (and additional data from those tables) that make clear recommendations on how people can create a successful Kickstarter campaign."
   ]
  },
  {
   "cell_type": "code",
   "execution_count": 27,
   "metadata": {},
   "outputs": [],
   "source": [
    "# Map 'status' column into boolean and make new column\n",
    "# i wanted to convert the status strings into a boolean\n",
    "#I wanna create a new column called status bool\n",
    "status_bool = {'successful': True, 'failed': False, 'suspended': False, 'canceled':False}\n",
    "kick['status_bool'] = kick['status'].map(status_bool)\n",
    "#applies a function to all the items in an input_list."
   ]
  },
  {
   "cell_type": "markdown",
   "metadata": {},
   "source": [
    "First let's convert the many 'status' options into a boolean of either True or False."
   ]
  },
  {
   "cell_type": "markdown",
   "metadata": {},
   "source": [
    "### QUESTION A: What's the best length of time to run a campaign?"
   ]
  },
  {
   "cell_type": "code",
   "execution_count": 28,
   "metadata": {},
   "outputs": [
    {
     "name": "stderr",
     "output_type": "stream",
     "text": [
      "/Users/imac/anaconda3/lib/python3.7/site-packages/seaborn/categorical.py:3666: UserWarning: The `factorplot` function has been renamed to `catplot`. The original name will be removed in a future release. Please update your code. Note that the default `kind` in `factorplot` (`'point'`) has changed `'strip'` in `catplot`.\n",
      "  warnings.warn(msg)\n"
     ]
    },
    {
     "data": {
      "image/png": "[encoded data removed]",
      "text/plain": [
       "<Figure size 360x360 with 1 Axes>"
      ]
     },
     "metadata": {
      "needs_background": "light"
     },
     "output_type": "display_data"
    }
   ],
   "source": [
    "# Plot showing rates of success by duration\n",
    "sns.factorplot(x='status', y='duration', data=kick, kind='bar', ci=None)\n",
    "#Ci size of the confidence interval for the regression estimate. avoid that computation by setting this parameter to None\n",
    "plt.xlabel('Status')\n",
    "plt.ylabel('Duration')\n",
    "plt.title('Project Status by Duration')\n",
    "plt.show()"
   ]
  },
  {
   "cell_type": "code",
   "execution_count": 29,
   "metadata": {},
   "outputs": [
    {
     "name": "stderr",
     "output_type": "stream",
     "text": [
      "/Users/imac/anaconda3/lib/python3.7/site-packages/seaborn/categorical.py:3666: UserWarning: The `factorplot` function has been renamed to `catplot`. The original name will be removed in a future release. Please update your code. Note that the default `kind` in `factorplot` (`'point'`) has changed `'strip'` in `catplot`.\n",
      "  warnings.warn(msg)\n"
     ]
    },
    {
     "data": {
      "image/png": "[encoded data removed]",
      "text/plain": [
       "<Figure size 360x360 with 1 Axes>"
      ]
     },
     "metadata": {
      "needs_background": "light"
     },
     "output_type": "display_data"
    }
   ],
   "source": [
    "# Plot showing rates of success by duration\n",
    "sns.factorplot(y='duration', x='status_bool', data=kick, kind='bar', ci=None)\n",
    "plt.xlabel('Funded')\n",
    "plt.ylabel('Duration')\n",
    "plt.title('Project Sucess by Duration')\n",
    "plt.show()\n",
    "#There does not seem to be any correlation between  length of time to run a campaign and success. About a month."
   ]
  },
  {
   "cell_type": "markdown",
   "metadata": {},
   "source": [
    "There does not seem to be any correlation between  length of time to run a campaign and success. About a month."
   ]
  },
  {
   "cell_type": "markdown",
   "metadata": {},
   "source": [
    "### QUESTION B: What's the ideal pledge goal?"
   ]
  },
  {
   "cell_type": "code",
   "execution_count": 30,
   "metadata": {},
   "outputs": [
    {
     "name": "stderr",
     "output_type": "stream",
     "text": [
      "/Users/imac/anaconda3/lib/python3.7/site-packages/seaborn/categorical.py:3666: UserWarning: The `factorplot` function has been renamed to `catplot`. The original name will be removed in a future release. Please update your code. Note that the default `kind` in `factorplot` (`'point'`) has changed `'strip'` in `catplot`.\n",
      "  warnings.warn(msg)\n"
     ]
    },
    {
     "data": {
      "image/png": "[encoded data removed]",
      "text/plain": [
       "<Figure size 360x360 with 1 Axes>"
      ]
     },
     "metadata": {
      "needs_background": "light"
     },
     "output_type": "display_data"
    }
   ],
   "source": [
    "# Plot showing rates of success by duration\n",
    "sns.factorplot(x='status', y='goal', data=kick, kind='bar', ci=None)\n",
    "plt.xlabel('Status')\n",
    "plt.ylabel('Pledge Goal')\n",
    "plt.title('Pledge Goals by Status')\n",
    "plt.show()\n",
    "#lower amount you ask, high chance you will be funded"
   ]
  },
  {
   "cell_type": "code",
   "execution_count": 31,
   "metadata": {},
   "outputs": [
    {
     "name": "stderr",
     "output_type": "stream",
     "text": [
      "/Users/imac/anaconda3/lib/python3.7/site-packages/seaborn/categorical.py:3666: UserWarning: The `factorplot` function has been renamed to `catplot`. The original name will be removed in a future release. Please update your code. Note that the default `kind` in `factorplot` (`'point'`) has changed `'strip'` in `catplot`.\n",
      "  warnings.warn(msg)\n"
     ]
    },
    {
     "data": {
      "image/png": "[encoded data removed]",
      "text/plain": [
       "<Figure size 360x360 with 1 Axes>"
      ]
     },
     "metadata": {
      "needs_background": "light"
     },
     "output_type": "display_data"
    }
   ],
   "source": [
    "# Plot showing rates of success by duration\n",
    "sns.factorplot(x='status_bool', y='goal', data=kick, kind='bar', ci=None)\n",
    "plt.xlabel('Funded')\n",
    "plt.ylabel('Pledge Goal')\n",
    "plt.title('Pledge Goal by Project Success')\n",
    "plt.show()\n"
   ]
  },
  {
   "cell_type": "markdown",
   "metadata": {},
   "source": [
    "The above plot shots the number of projects organized by status based on their pledge goal. Here one can see that the lower amount the project asks for; the higher chances there are for success."
   ]
  },
  {
   "cell_type": "markdown",
   "metadata": {},
   "source": [
    "### QUESTION C: What type of projects would be most successful at getting funded?"
   ]
  },
  {
   "cell_type": "code",
   "execution_count": 32,
   "metadata": {},
   "outputs": [
    {
     "data": {
      "text/plain": [
       "['Film & Video',\n",
       " 'Games',\n",
       " 'Fashion',\n",
       " 'Music',\n",
       " 'Art',\n",
       " 'Technology',\n",
       " 'Dance',\n",
       " 'Publishing',\n",
       " 'Theater',\n",
       " 'Comics',\n",
       " 'Design',\n",
       " 'Photography',\n",
       " 'Food',\n",
       " 'Film &amp; Video']"
      ]
     },
     "execution_count": 32,
     "metadata": {},
     "output_type": "execute_result"
    }
   ],
   "source": [
    "# Print categories\n",
    "kick['category'].unique().tolist()"
   ]
  },
  {
   "cell_type": "markdown",
   "metadata": {},
   "source": [
    "The above list of unique categories shows there's a category that's showing up twice due to bad data and duplicates. This needs to be fixed:"
   ]
  },
  {
   "cell_type": "code",
   "execution_count": 33,
   "metadata": {},
   "outputs": [
    {
     "data": {
      "text/plain": [
       "['Film & Video',\n",
       " 'Games',\n",
       " 'Fashion',\n",
       " 'Music',\n",
       " 'Art',\n",
       " 'Technology',\n",
       " 'Dance',\n",
       " 'Publishing',\n",
       " 'Theater',\n",
       " 'Comics',\n",
       " 'Design',\n",
       " 'Photography',\n",
       " 'Food']"
      ]
     },
     "execution_count": 33,
     "metadata": {},
     "output_type": "execute_result"
    }
   ],
   "source": [
    "# Replace bad data values in 'category' column\n",
    "kick['category'] = kick['category'].replace(['Film &amp; Video'], 'Film & Video')\n",
    "kick['category'].unique().tolist()"
   ]
  },
  {
   "cell_type": "markdown",
   "metadata": {},
   "source": [
    "Category is clean and mission fixed using list function"
   ]
  },
  {
   "cell_type": "code",
   "execution_count": 34,
   "metadata": {},
   "outputs": [
    {
     "name": "stderr",
     "output_type": "stream",
     "text": [
      "/Users/imac/anaconda3/lib/python3.7/site-packages/seaborn/categorical.py:3666: UserWarning: The `factorplot` function has been renamed to `catplot`. The original name will be removed in a future release. Please update your code. Note that the default `kind` in `factorplot` (`'point'`) has changed `'strip'` in `catplot`.\n",
      "  warnings.warn(msg)\n"
     ]
    },
    {
     "data": {
      "image/png": "[encoded data removed]",
      "text/plain": [
       "<Figure size 360x360 with 1 Axes>"
      ]
     },
     "metadata": {
      "needs_background": "light"
     },
     "output_type": "display_data"
    }
   ],
   "source": [
    "# Plot showing rates of success by duration\n",
    "sns.factorplot(y='category', x='status_bool', data=kick, kind='bar', ci=None)\n",
    "plt.xlabel('Percent Success')\n",
    "plt.ylabel('Category')\n",
    "plt.title('Success by Category')\n",
    "plt.show()\n",
    "#Ther most successful projects are actulyy Dance, then theater, and the lowest is fashion and it's actually surbrising "
   ]
  },
  {
   "cell_type": "markdown",
   "metadata": {},
   "source": [
    "The types of projects most successful to be funded are dance, theater, music, and art. The types of projets least succesful to be funded are fashion, technology, and publishing."
   ]
  },
  {
   "cell_type": "markdown",
   "metadata": {},
   "source": [
    "### QUESTION D: Is there an ideal month/day/time to launch a campaign?"
   ]
  },
  {
   "cell_type": "code",
   "execution_count": 35,
   "metadata": {},
   "outputs": [],
   "source": [
    "# Create 'funded_month' column based on datetime conversion from 'funded_date' column\n",
    "#i created a new column called funded month\n",
    "kick['funded_month'] = kick['funded_date'].apply(lambda x: dt.datetime.strptime(x, '%a, %d %b %Y %X -%f').strftime('%B'))\n",
    "#%B full month name // Use lambda functions when an anonymous function is required for a short period of time.\n",
    "\n",
    "# Create 'funded_weekday' column based on datetime conversion from 'funded_date' column\n",
    "kick['funded_weekday'] = kick['funded_date'].apply(lambda x: dt.datetime.strptime(x, '%a, %d %b %Y %X -%f').strftime('%a')) \n",
    "#%a the short name of week"
   ]
  },
  {
   "cell_type": "code",
   "execution_count": 36,
   "metadata": {},
   "outputs": [
    {
     "name": "stderr",
     "output_type": "stream",
     "text": [
      "/Users/imac/anaconda3/lib/python3.7/site-packages/seaborn/categorical.py:3666: UserWarning: The `factorplot` function has been renamed to `catplot`. The original name will be removed in a future release. Please update your code. Note that the default `kind` in `factorplot` (`'point'`) has changed `'strip'` in `catplot`.\n",
      "  warnings.warn(msg)\n"
     ]
    },
    {
     "data": {
      "image/png": "[encoded data removed]",
      "text/plain": [
       "<Figure size 360x360 with 1 Axes>"
      ]
     },
     "metadata": {
      "needs_background": "light"
     },
     "output_type": "display_data"
    }
   ],
   "source": [
    "# Plot showing rates of success by weekday\n",
    "sns.factorplot(y='funded_weekday', x='status_bool', data=kick, kind='bar', ci=None)\n",
    "plt.xlabel('Percent Succesful')\n",
    "plt.ylabel('Day of Funding')\n",
    "plt.title('Success by Funding Weekday')\n",
    "plt.show()"
   ]
  },
  {
   "cell_type": "markdown",
   "metadata": {},
   "source": [
    "There does not appear to be any correlation between success and week day or funding."
   ]
  },
  {
   "cell_type": "code",
   "execution_count": 37,
   "metadata": {},
   "outputs": [
    {
     "name": "stderr",
     "output_type": "stream",
     "text": [
      "/Users/imac/anaconda3/lib/python3.7/site-packages/seaborn/categorical.py:3666: UserWarning: The `factorplot` function has been renamed to `catplot`. The original name will be removed in a future release. Please update your code. Note that the default `kind` in `factorplot` (`'point'`) has changed `'strip'` in `catplot`.\n",
      "  warnings.warn(msg)\n"
     ]
    },
    {
     "data": {
      "image/png": "[encoded data removed]",
      "text/plain": [
       "<Figure size 360x360 with 1 Axes>"
      ]
     },
     "metadata": {
      "needs_background": "light"
     },
     "output_type": "display_data"
    }
   ],
   "source": [
    "# Plot showing rates of success by month\n",
    "sns.factorplot(y='funded_month', x='status_bool', data=kick, kind='bar', ci=None)\n",
    "plt.xlabel('Funded Percentage')\n",
    "plt.ylabel('Month')\n",
    "plt.title('Success by Funding Month')\n",
    "plt.show()"
   ]
  },
  {
   "cell_type": "markdown",
   "metadata": {},
   "source": [
    "There does not appear to be any correlation between success and month of funding."
   ]
  },
  {
   "cell_type": "markdown",
   "metadata": {},
   "source": [
    "---\n",
    "\n",
    "#    <font color='red'> Mission Accomplished</font> \n"
   ]
  },
  {
   "cell_type": "markdown",
   "metadata": {},
   "source": [
    "---\n",
    "---\n",
    "# <font color='green'> This was made by Sultan Alsaedi </font> \n",
    "# <font color='blue'> Data Scientist </font> \n"
   ]
  },
  {
   "cell_type": "markdown",
   "metadata": {},
   "source": [
    "## Contact me\n",
    "### Email: trexercrypto@gmail.com\n",
    "### Slack: @stan\n",
    "### GitHub: https://github.com/stanxd/\n",
    "---\n",
    "---"
   ]
  },
  {
   "cell_type": "code",
   "execution_count": null,
   "metadata": {},
   "outputs": [],
   "source": []
  }
 ],
 "metadata": {
  "kernelspec": {
   "display_name": "Python 3",
   "language": "python",
   "name": "python3"
  },
  "language_info": {
   "codemirror_mode": {
    "name": "ipython",
    "version": 3
   },
   "file_extension": ".py",
   "mimetype": "text/x-python",
   "name": "python",
   "nbconvert_exporter": "python",
   "pygments_lexer": "ipython3",
   "version": "3.7.3"
  }
 },
 "nbformat": 4,
 "nbformat_minor": 2
}
